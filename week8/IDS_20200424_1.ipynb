{
  "nbformat": 4,
  "nbformat_minor": 0,
  "metadata": {
    "colab": {
      "name": "IDS_20200424_1",
      "provenance": []
    },
    "kernelspec": {
      "name": "python3",
      "display_name": "Python 3"
    }
  },
  "cells": [
    {
      "cell_type": "code",
      "metadata": {
        "id": "l5S2z4Eh3_YW",
        "colab_type": "code",
        "outputId": "2bbe2f9e-8be6-4fa7-83e9-bd1f0d8bd678",
        "colab": {
          "base_uri": "https://localhost:8080/",
          "height": 51
        }
      },
      "source": [
        "user_int = int(input(\"請輸入一個正整數:\"))\n",
        "if user_int % 15 == 0:\n",
        "    print('Fizz Buzz')\n",
        "elif user_int % 3 == 0:\n",
        "    print('Fizz')\n",
        "elif user_int % 5 == 0 :\n",
        "    print('Buzz')\n",
        "else:\n",
        "    print(user_int) "
      ],
      "execution_count": 18,
      "outputs": [
        {
          "output_type": "stream",
          "text": [
            "請輸入一個正整數:43\n",
            "43\n"
          ],
          "name": "stdout"
        }
      ]
    },
    {
      "cell_type": "code",
      "metadata": {
        "id": "75QfW4SPMUYX",
        "colab_type": "code",
        "colab": {
          "base_uri": "https://localhost:8080/",
          "height": 187
        },
        "outputId": "95d48419-3ec1-4d62-c49f-6ba283f84209"
      },
      "source": [
        "i = 1\n",
        "while i <= 10 :\n",
        "  print(i)\n",
        "  i += 1"
      ],
      "execution_count": 22,
      "outputs": [
        {
          "output_type": "stream",
          "text": [
            "1\n",
            "2\n",
            "3\n",
            "4\n",
            "5\n",
            "6\n",
            "7\n",
            "8\n",
            "9\n",
            "10\n"
          ],
          "name": "stdout"
        }
      ]
    },
    {
      "cell_type": "code",
      "metadata": {
        "id": "zLR34EzMOMt8",
        "colab_type": "code",
        "colab": {
          "base_uri": "https://localhost:8080/",
          "height": 34
        },
        "outputId": "067a822c-65e6-4a03-f62a-25f3105b6a0d"
      },
      "source": [
        "i = 1\n",
        "counter = 0\n",
        "while i <= 10 :\n",
        "  counter += 1\n",
        "  i += 1\n",
        "print(counter)  "
      ],
      "execution_count": 23,
      "outputs": [
        {
          "output_type": "stream",
          "text": [
            "10\n"
          ],
          "name": "stdout"
        }
      ]
    },
    {
      "cell_type": "code",
      "metadata": {
        "id": "s4JlGoNjQV-7",
        "colab_type": "code",
        "colab": {
          "base_uri": "https://localhost:8080/",
          "height": 34
        },
        "outputId": "cfa7d953-b339-47ba-dda7-bfb3fd0c6c23"
      },
      "source": [
        "i = 1\n",
        "counter = 0\n",
        "while i <= 10 :\n",
        "  if i % 2 == 0 :\n",
        "     counter += 1\n",
        "  i += 1\n",
        "print(counter)  "
      ],
      "execution_count": 25,
      "outputs": [
        {
          "output_type": "stream",
          "text": [
            "5\n"
          ],
          "name": "stdout"
        }
      ]
    },
    {
      "cell_type": "code",
      "metadata": {
        "id": "BknVNcHXSGUK",
        "colab_type": "code",
        "colab": {
          "base_uri": "https://localhost:8080/",
          "height": 34
        },
        "outputId": "44141e8f-a27a-4e0f-fc83-662924f5aa74"
      },
      "source": [
        "i = 1\n",
        "summation = 0\n",
        "while i <= 100:\n",
        "  summation += i\n",
        "  i += 1\n",
        "print(summation)  \n"
      ],
      "execution_count": 27,
      "outputs": [
        {
          "output_type": "stream",
          "text": [
            "5050\n"
          ],
          "name": "stdout"
        }
      ]
    },
    {
      "cell_type": "code",
      "metadata": {
        "id": "9fVttQ10TJRZ",
        "colab_type": "code",
        "colab": {
          "base_uri": "https://localhost:8080/",
          "height": 153
        },
        "outputId": "ef94a931-e601-4578-dfc3-d5272cf974df"
      },
      "source": [
        "x = int(input(\"請輸入起始的正整數\"))\n",
        "y = int(input(\"請輸入終止的正整數\"))\n",
        "\n",
        "while x <= y:\n",
        "  if x % 2 ==1:\n",
        "    print(x)\n",
        "  x += 1\n",
        "        "
      ],
      "execution_count": 34,
      "outputs": [
        {
          "output_type": "stream",
          "text": [
            "請輸入起始的正整數55\n",
            "請輸入終止的正整數66\n",
            "55\n",
            "57\n",
            "59\n",
            "61\n",
            "63\n",
            "65\n"
          ],
          "name": "stdout"
        }
      ]
    },
    {
      "cell_type": "code",
      "metadata": {
        "id": "qLHbNdv3WOrA",
        "colab_type": "code",
        "colab": {
          "base_uri": "https://localhost:8080/",
          "height": 153
        },
        "outputId": "533229b7-18f7-4334-c3f3-13ef61da613b"
      },
      "source": [
        "x = int(input(\"請輸入起始的正整數\"))\n",
        "y = int(input(\"請輸入終止的正整數\"))\n",
        "i = x\n",
        "while i <= y:\n",
        "  if i % 2 ==1:\n",
        "    print(i)\n",
        "  i += 1\n"
      ],
      "execution_count": 37,
      "outputs": [
        {
          "output_type": "stream",
          "text": [
            "請輸入起始的正整數55\n",
            "請輸入終止的正整數66\n",
            "55\n",
            "57\n",
            "59\n",
            "61\n",
            "63\n",
            "65\n"
          ],
          "name": "stdout"
        }
      ]
    }
  ]
}