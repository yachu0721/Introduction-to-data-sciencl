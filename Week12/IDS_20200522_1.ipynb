{
  "nbformat": 4,
  "nbformat_minor": 0,
  "metadata": {
    "colab": {
      "name": "IDS_20200522_1",
      "provenance": []
    },
    "kernelspec": {
      "name": "python3",
      "display_name": "Python 3"
    }
  },
  "cells": [
    {
      "cell_type": "code",
      "metadata": {
        "id": "CJvkefDc1wXB",
        "colab_type": "code",
        "colab": {
          "base_uri": "https://localhost:8080/",
          "height": 88
        },
        "outputId": "58df750d-dc39-42eb-bb7b-158a7159d302"
      },
      "source": [
        "print(list(range(1, 101)))\n",
        "print(\"-----------------------\")\n",
        "print(list(range(0, 100, 2)))"
      ],
      "execution_count": 3,
      "outputs": [
        {
          "output_type": "stream",
          "text": [
            "[1, 2, 3, 4, 5, 6, 7, 8, 9, 10, 11, 12, 13, 14, 15, 16, 17, 18, 19, 20, 21, 22, 23, 24, 25, 26, 27, 28, 29, 30, 31, 32, 33, 34, 35, 36, 37, 38, 39, 40, 41, 42, 43, 44, 45, 46, 47, 48, 49, 50, 51, 52, 53, 54, 55, 56, 57, 58, 59, 60, 61, 62, 63, 64, 65, 66, 67, 68, 69, 70, 71, 72, 73, 74, 75, 76, 77, 78, 79, 80, 81, 82, 83, 84, 85, 86, 87, 88, 89, 90, 91, 92, 93, 94, 95, 96, 97, 98, 99, 100]\n",
            "-----------------------\n",
            "[0, 2, 4, 6, 8, 10, 12, 14, 16, 18, 20, 22, 24, 26, 28, 30, 32, 34, 36, 38, 40, 42, 44, 46, 48, 50, 52, 54, 56, 58, 60, 62, 64, 66, 68, 70, 72, 74, 76, 78, 80, 82, 84, 86, 88, 90, 92, 94, 96, 98]\n"
          ],
          "name": "stdout"
        }
      ]
    },
    {
      "cell_type": "code",
      "metadata": {
        "id": "DwAofc_51wdc",
        "colab_type": "code",
        "colab": {
          "base_uri": "https://localhost:8080/",
          "height": 1000
        },
        "outputId": "2c5b32d8-6e7a-4c55-f422-e9bef2a7ac0f"
      },
      "source": [
        "for i in range(1, 101):\n",
        "    print(i)"
      ],
      "execution_count": 5,
      "outputs": [
        {
          "output_type": "stream",
          "text": [
            "1\n",
            "2\n",
            "3\n",
            "4\n",
            "5\n",
            "6\n",
            "7\n",
            "8\n",
            "9\n",
            "10\n",
            "11\n",
            "12\n",
            "13\n",
            "14\n",
            "15\n",
            "16\n",
            "17\n",
            "18\n",
            "19\n",
            "20\n",
            "21\n",
            "22\n",
            "23\n",
            "24\n",
            "25\n",
            "26\n",
            "27\n",
            "28\n",
            "29\n",
            "30\n",
            "31\n",
            "32\n",
            "33\n",
            "34\n",
            "35\n",
            "36\n",
            "37\n",
            "38\n",
            "39\n",
            "40\n",
            "41\n",
            "42\n",
            "43\n",
            "44\n",
            "45\n",
            "46\n",
            "47\n",
            "48\n",
            "49\n",
            "50\n",
            "51\n",
            "52\n",
            "53\n",
            "54\n",
            "55\n",
            "56\n",
            "57\n",
            "58\n",
            "59\n",
            "60\n",
            "61\n",
            "62\n",
            "63\n",
            "64\n",
            "65\n",
            "66\n",
            "67\n",
            "68\n",
            "69\n",
            "70\n",
            "71\n",
            "72\n",
            "73\n",
            "74\n",
            "75\n",
            "76\n",
            "77\n",
            "78\n",
            "79\n",
            "80\n",
            "81\n",
            "82\n",
            "83\n",
            "84\n",
            "85\n",
            "86\n",
            "87\n",
            "88\n",
            "89\n",
            "90\n",
            "91\n",
            "92\n",
            "93\n",
            "94\n",
            "95\n",
            "96\n",
            "97\n",
            "98\n",
            "99\n",
            "100\n"
          ],
          "name": "stdout"
        }
      ]
    },
    {
      "cell_type": "code",
      "metadata": {
        "id": "b4h_BK7e1wlE",
        "colab_type": "code",
        "colab": {
          "base_uri": "https://localhost:8080/",
          "height": 1000
        },
        "outputId": "7639f17c-4469-4f46-9831-eb42b7f7db0e"
      },
      "source": [
        "x = int(input(\"請輸入起始的正整數:\"))\n",
        "y = int(input(\"請輸入終止的正整數:\"))\n",
        "for i in range(x, y+1):\n",
        "    print(i)\n"
      ],
      "execution_count": 7,
      "outputs": [
        {
          "output_type": "stream",
          "text": [
            "請輸入起始的正整數:1\n",
            "請輸入終止的正整數:78\n",
            "1\n",
            "2\n",
            "3\n",
            "4\n",
            "5\n",
            "6\n",
            "7\n",
            "8\n",
            "9\n",
            "10\n",
            "11\n",
            "12\n",
            "13\n",
            "14\n",
            "15\n",
            "16\n",
            "17\n",
            "18\n",
            "19\n",
            "20\n",
            "21\n",
            "22\n",
            "23\n",
            "24\n",
            "25\n",
            "26\n",
            "27\n",
            "28\n",
            "29\n",
            "30\n",
            "31\n",
            "32\n",
            "33\n",
            "34\n",
            "35\n",
            "36\n",
            "37\n",
            "38\n",
            "39\n",
            "40\n",
            "41\n",
            "42\n",
            "43\n",
            "44\n",
            "45\n",
            "46\n",
            "47\n",
            "48\n",
            "49\n",
            "50\n",
            "51\n",
            "52\n",
            "53\n",
            "54\n",
            "55\n",
            "56\n",
            "57\n",
            "58\n",
            "59\n",
            "60\n",
            "61\n",
            "62\n",
            "63\n",
            "64\n",
            "65\n",
            "66\n",
            "67\n",
            "68\n",
            "69\n",
            "70\n",
            "71\n",
            "72\n",
            "73\n",
            "74\n",
            "75\n",
            "76\n",
            "77\n",
            "78\n"
          ],
          "name": "stdout"
        }
      ]
    },
    {
      "cell_type": "code",
      "metadata": {
        "id": "yTVH1g9zGL_r",
        "colab_type": "code",
        "colab": {
          "base_uri": "https://localhost:8080/",
          "height": 136
        },
        "outputId": "a975981d-f4ba-4f6e-acdf-ed646c25d8ab"
      },
      "source": [
        "x = int(input(\"請輸入起始的正整數:\"))\n",
        "y = int(input(\"請輸入終止的正整數:\"))\n",
        "odds = []\n",
        "for i in range(x, y+1):\n",
        "  mod = i % 2\n",
        "  if mod == 1:\n",
        "      odds.append(i)\n",
        "print(odds)\n",
        "print(\"-----------------------\")\n",
        "print(len(odds)) # 計數\n",
        "print(\"-----------------------\")\n",
        "print(sum(odds)) # 加總"
      ],
      "execution_count": 11,
      "outputs": [
        {
          "output_type": "stream",
          "text": [
            "請輸入起始的正整數:13\n",
            "請輸入終止的正整數:59\n",
            "[13, 15, 17, 19, 21, 23, 25, 27, 29, 31, 33, 35, 37, 39, 41, 43, 45, 47, 49, 51, 53, 55, 57, 59]\n",
            "-----------------------\n",
            "24\n",
            "-----------------------\n",
            "864\n"
          ],
          "name": "stdout"
        }
      ]
    },
    {
      "cell_type": "code",
      "metadata": {
        "id": "-d6Tfc2mL787",
        "colab_type": "code",
        "colab": {
          "base_uri": "https://localhost:8080/",
          "height": 51
        },
        "outputId": "7ca052b4-1d8e-4997-b4d9-d6bd288e45d0"
      },
      "source": [
        "x = int(input(\"請輸入一個正整數:\"))\n",
        "divisors = []\n",
        "for i in range(1, x+1):\n",
        "    if x % i == 0:\n",
        "        divisors.append(i)\n",
        "print(divisors)"
      ],
      "execution_count": 12,
      "outputs": [
        {
          "output_type": "stream",
          "text": [
            "請輸入一個正整數:59\n",
            "[1, 59]\n"
          ],
          "name": "stdout"
        }
      ]
    },
    {
      "cell_type": "code",
      "metadata": {
        "id": "QxecuYOxHO3B",
        "colab_type": "code",
        "colab": {
          "base_uri": "https://localhost:8080/",
          "height": 68
        },
        "outputId": "22638b34-84a1-4ece-c394-f38afa4fca42"
      },
      "source": [
        "x = int(input(\"請輸入一個正整數:\"))\n",
        "divisors = []\n",
        "for i in range(1, x+1):\n",
        "    if x % i == 0:\n",
        "        divisors.append(i)\n",
        "print(divisors)\n",
        "n_divisors = len(divisors)\n",
        "if n_divisors == 2:\n",
        "    print(\"{}是質數\".format(x))\n",
        "else:\n",
        "    print(\"{}不是質數\".format(x))"
      ],
      "execution_count": 13,
      "outputs": [
        {
          "output_type": "stream",
          "text": [
            "請輸入一個正整數:2\n",
            "[1, 2]\n",
            "2是質數\n"
          ],
          "name": "stdout"
        }
      ]
    },
    {
      "cell_type": "code",
      "metadata": {
        "id": "bXbJRPzdHPHn",
        "colab_type": "code",
        "colab": {
          "base_uri": "https://localhost:8080/",
          "height": 241
        },
        "outputId": "94d7aa96-f348-47df-d6ff-025489ff1e2f"
      },
      "source": [
        "# random 產生 1 個隨機數\n",
        "import random\n",
        "\n",
        "print(random.randint(1, 1000))\n",
        "print(\"-----------------------\")\n",
        "\n",
        "# random 產生 100 個隨機數\n",
        "random_integers = []\n",
        "for i in range(100):\n",
        "    rand_int = random.randint(1, 1000)\n",
        "    random_integers.append(rand_int)\n",
        "print(random_integers)\n",
        "print(len(random_integers))\n",
        "print(\"-----------------------\")\n",
        "\n",
        "# 找出第一大與第一小的數字\n",
        "print(max(random_integers))\n",
        "print(min(random_integers))\n",
        "print(\"-----------------------\")\n",
        "\n",
        "# 找出第二大與第二小的數字\n",
        "print(len(set(random_integers))) # 先檢查有無重複\n",
        "ran_int_unique = set(random_integers) # \"set\"不可取值\n",
        "ran_int_unique_list = list(ran_int_unique) \n",
        "print(ran_int_unique_list)\n",
        "ran_int_unique_list.sort()\n",
        "print(ran_int_unique_list[1]) # 第二小\n",
        "print(ran_int_unique_list[-2]) # 第二大"
      ],
      "execution_count": 25,
      "outputs": [
        {
          "output_type": "stream",
          "text": [
            "970\n",
            "-----------------------\n",
            "[489, 949, 836, 904, 196, 613, 250, 197, 288, 972, 650, 339, 680, 99, 337, 622, 395, 502, 488, 969, 827, 508, 200, 429, 316, 698, 600, 559, 174, 541, 527, 612, 190, 903, 291, 757, 656, 69, 420, 994, 703, 951, 595, 329, 299, 953, 35, 303, 750, 34, 298, 26, 447, 554, 266, 571, 427, 909, 269, 354, 484, 703, 118, 956, 678, 201, 938, 517, 557, 119, 236, 894, 17, 85, 327, 613, 873, 380, 943, 970, 573, 586, 681, 896, 330, 465, 187, 413, 833, 691, 516, 305, 424, 933, 832, 212, 740, 130, 492, 872]\n",
            "100\n",
            "-----------------------\n",
            "994\n",
            "17\n",
            "-----------------------\n",
            "98\n",
            "[516, 517, 527, 17, 26, 541, 34, 35, 554, 557, 559, 571, 573, 69, 586, 595, 85, 600, 99, 612, 613, 622, 118, 119, 130, 650, 656, 678, 680, 681, 174, 691, 698, 187, 190, 703, 196, 197, 200, 201, 212, 740, 236, 750, 757, 250, 266, 269, 288, 291, 298, 299, 303, 305, 827, 316, 832, 833, 836, 327, 329, 330, 337, 339, 354, 872, 873, 380, 894, 896, 903, 904, 395, 909, 413, 420, 933, 424, 938, 427, 429, 943, 949, 951, 953, 956, 447, 969, 970, 972, 465, 994, 484, 488, 489, 492, 502, 508]\n",
            "26\n",
            "972\n"
          ],
          "name": "stdout"
        }
      ]
    },
    {
      "cell_type": "code",
      "metadata": {
        "id": "A22PZfLOHPaX",
        "colab_type": "code",
        "colab": {
          "base_uri": "https://localhost:8080/",
          "height": 102
        },
        "outputId": "abf7988e-8709-4c2f-be74-042eea8b9549"
      },
      "source": [
        "print(list(range(10)))\n",
        "print(\"-----------------------\")\n",
        "# 方法一\n",
        "squared = []\n",
        "for i in range(10):\n",
        "  squared.append(i**2)\n",
        "print(squared)  \n",
        "print(\"-----------------------\")\n",
        "# 方法二\n",
        "squared = [i**2 for i in range(10)]\n",
        "print(squared) "
      ],
      "execution_count": 28,
      "outputs": [
        {
          "output_type": "stream",
          "text": [
            "[0, 1, 2, 3, 4, 5, 6, 7, 8, 9]\n",
            "-----------------------\n",
            "[0, 1, 4, 9, 16, 25, 36, 49, 64, 81]\n",
            "-----------------------\n",
            "[0, 1, 4, 9, 16, 25, 36, 49, 64, 81]\n"
          ],
          "name": "stdout"
        }
      ]
    },
    {
      "cell_type": "code",
      "metadata": {
        "id": "u51-FaMpXql9",
        "colab_type": "code",
        "colab": {
          "base_uri": "https://localhost:8080/",
          "height": 68
        },
        "outputId": "5113f3f2-5bd6-44e6-c949-afa39ed4766c"
      },
      "source": [
        "# 方法一\n",
        "odds_squared = []\n",
        "for i in range(10):\n",
        "  if i % 2 == 1:\n",
        "      odds_squared.append(i**2)\n",
        "print(odds_squared)    \n",
        "print(\"-----------------------\")\n",
        "# 方法二\n",
        "odds_squared = [i**2 for i in range(10) if i % 2 == 1]\n",
        "print(odds_squared)"
      ],
      "execution_count": 33,
      "outputs": [
        {
          "output_type": "stream",
          "text": [
            "[1, 9, 25, 49, 81]\n",
            "-----------------------\n",
            "[1, 9, 25, 49, 81]\n"
          ],
          "name": "stdout"
        }
      ]
    },
    {
      "cell_type": "code",
      "metadata": {
        "id": "Jvt7zvPLYVAk",
        "colab_type": "code",
        "colab": {
          "base_uri": "https://localhost:8080/",
          "height": 85
        },
        "outputId": "ca3702ca-728a-4acc-acb7-2c65df641593"
      },
      "source": [
        "random_integers = []\n",
        "for i in range(100):\n",
        "    rand_int = random.randint(1, 1000)\n",
        "    random_integers.append(rand_int)\n",
        "random_integers = [random.randint(1, 100) for i in range(20)]\n",
        "print(random_integers)\n",
        "is_odd_ints = []\n",
        "for i in random_integers:\n",
        "    if i % 2 == 1:\n",
        "        is_odd_ints.append(True)\n",
        "    else:\n",
        "        is_odd_ints.append(False)\n",
        "print(is_odd_ints)\n",
        "print(\"--------------------------------------------------------------------------------------------------------------------------------------------\")\n",
        "is_odd_ints = [True if i % 2 == 1 else False for i in random_integers]\n",
        "print(is_odd_ints)"
      ],
      "execution_count": 45,
      "outputs": [
        {
          "output_type": "stream",
          "text": [
            "[55, 56, 27, 85, 56, 45, 36, 49, 17, 67, 15, 72, 3, 56, 40, 79, 26, 68, 66, 11]\n",
            "[True, False, True, True, False, True, False, True, True, True, True, False, True, False, False, True, False, False, False, True]\n",
            "--------------------------------------------------------------------------------------------------------------------------------------------\n",
            "[True, False, True, True, False, True, False, True, True, True, True, False, True, False, False, True, False, False, False, True]\n"
          ],
          "name": "stdout"
        }
      ]
    },
    {
      "cell_type": "code",
      "metadata": {
        "id": "xROhJlHxaNI0",
        "colab_type": "code",
        "colab": {
          "base_uri": "https://localhost:8080/",
          "height": 102
        },
        "outputId": "8716e034-1ec6-485a-c380-c5d3d20bc2f0"
      },
      "source": [
        "weekdays = ['Monday', 'Tuesday', 'Wednesday', 'Thursday', 'Friday']\n",
        "for i, wd in enumerate(weekdays):\n",
        "    print(\"{}:星期{}\".format(wd, i+1))"
      ],
      "execution_count": 46,
      "outputs": [
        {
          "output_type": "stream",
          "text": [
            "Monday:星期1\n",
            "Tuesday:星期2\n",
            "Wednesday:星期3\n",
            "Thursday:星期4\n",
            "Friday:星期5\n"
          ],
          "name": "stdout"
        }
      ]
    },
    {
      "cell_type": "code",
      "metadata": {
        "id": "jvJYJU5Vckhf",
        "colab_type": "code",
        "colab": {
          "base_uri": "https://localhost:8080/",
          "height": 170
        },
        "outputId": "08d4743e-d263-4f3e-e75c-8f94502b510b"
      },
      "source": [
        "avengers = [\"The Avengers\", \"Avengers: Age of Ultron\", \"Avengers: Infinity War\", \"Avengers: Endgame\"]\n",
        "for idx, movie in enumerate(avengers):\n",
        "    print(\"第 {} 部上映的復仇者聯盟是:{}\".format(idx+1, movie))\n",
        "print(\"-----------------------\")\n",
        "years = [2012, 2015, 2018, 2019]\n",
        "for year, movie in zip(years, avengers):\n",
        "    print(\"{}上映的年份是{}\".format(movie, year))"
      ],
      "execution_count": 58,
      "outputs": [
        {
          "output_type": "stream",
          "text": [
            "第 1 部上映的復仇者聯盟是:The Avengers\n",
            "第 2 部上映的復仇者聯盟是:Avengers: Age of Ultron\n",
            "第 3 部上映的復仇者聯盟是:Avengers: Infinity War\n",
            "第 4 部上映的復仇者聯盟是:Avengers: Endgame\n",
            "-----------------------\n",
            "The Avengers上映的年份是2012\n",
            "Avengers: Age of Ultron上映的年份是2015\n",
            "Avengers: Infinity War上映的年份是2018\n",
            "Avengers: Endgame上映的年份是2019\n"
          ],
          "name": "stdout"
        }
      ]
    },
    {
      "cell_type": "code",
      "metadata": {
        "id": "hMlAfh62doDO",
        "colab_type": "code",
        "colab": {
          "base_uri": "https://localhost:8080/",
          "height": 190
        },
        "outputId": "e2ace2be-4cf8-49be-821d-e048b97de7c0"
      },
      "source": [
        "import pandas as pd\n",
        "\n",
        "covid19_ts = pd.read_csv(\"https://raw.githubusercontent.com/CSSEGISandData/COVID-19/master/csse_covid_19_data/csse_covid_19_time_series/time_series_covid19_confirmed_global.csv\")\n",
        "covid19_ts_tw = covid19_ts[covid19_ts['Country/Region'] == 'Taiwan*']\n",
        "cumulative_confirmed_tw = list(covid19_ts_tw.loc[:,'1/22/20':'5/21/20'].values.ravel())\n",
        "dates = list(covid19_ts_tw.loc[:, '1/22/20':'5/21/20'].columns)\n",
        "print(dates)\n",
        "print(len(dates))\n",
        "print(\"-----------------------\")\n",
        "print(cumulative_confirmed_tw)\n",
        "print(len(cumulative_confirmed_tw))\n",
        "print(\"-----------------------\")\n",
        "# 在這 121 天中，那些\"日期\"是 0 新增確診?\n",
        "cumulative_confirmed_tw_lag = []\n",
        "for i in range(1, len(cumulative_confirmed_tw)):\n",
        "    cumulative_confirmed_tw_lag.append(cumulative_confirmed_tw[i])\n",
        "print(cumulative_confirmed_tw_lag)\n",
        "print(len(cumulative_confirmed_tw_lag))\n",
        "print(\"-----------------------\")\n",
        "\n"
      ],
      "execution_count": 67,
      "outputs": [
        {
          "output_type": "stream",
          "text": [
            "['1/22/20', '1/23/20', '1/24/20', '1/25/20', '1/26/20', '1/27/20', '1/28/20', '1/29/20', '1/30/20', '1/31/20', '2/1/20', '2/2/20', '2/3/20', '2/4/20', '2/5/20', '2/6/20', '2/7/20', '2/8/20', '2/9/20', '2/10/20', '2/11/20', '2/12/20', '2/13/20', '2/14/20', '2/15/20', '2/16/20', '2/17/20', '2/18/20', '2/19/20', '2/20/20', '2/21/20', '2/22/20', '2/23/20', '2/24/20', '2/25/20', '2/26/20', '2/27/20', '2/28/20', '2/29/20', '3/1/20', '3/2/20', '3/3/20', '3/4/20', '3/5/20', '3/6/20', '3/7/20', '3/8/20', '3/9/20', '3/10/20', '3/11/20', '3/12/20', '3/13/20', '3/14/20', '3/15/20', '3/16/20', '3/17/20', '3/18/20', '3/19/20', '3/20/20', '3/21/20', '3/22/20', '3/23/20', '3/24/20', '3/25/20', '3/26/20', '3/27/20', '3/28/20', '3/29/20', '3/30/20', '3/31/20', '4/1/20', '4/2/20', '4/3/20', '4/4/20', '4/5/20', '4/6/20', '4/7/20', '4/8/20', '4/9/20', '4/10/20', '4/11/20', '4/12/20', '4/13/20', '4/14/20', '4/15/20', '4/16/20', '4/17/20', '4/18/20', '4/19/20', '4/20/20', '4/21/20', '4/22/20', '4/23/20', '4/24/20', '4/25/20', '4/26/20', '4/27/20', '4/28/20', '4/29/20', '4/30/20', '5/1/20', '5/2/20', '5/3/20', '5/4/20', '5/5/20', '5/6/20', '5/7/20', '5/8/20', '5/9/20', '5/10/20', '5/11/20', '5/12/20', '5/13/20', '5/14/20', '5/15/20', '5/16/20', '5/17/20', '5/18/20', '5/19/20', '5/20/20', '5/21/20']\n",
            "121\n",
            "-----------------------\n",
            "[1, 1, 3, 3, 4, 5, 8, 8, 9, 10, 10, 10, 10, 11, 11, 16, 16, 17, 18, 18, 18, 18, 18, 18, 18, 20, 22, 22, 23, 24, 26, 26, 28, 30, 31, 32, 32, 34, 39, 40, 41, 42, 42, 44, 45, 45, 45, 45, 47, 48, 49, 50, 53, 59, 67, 77, 100, 108, 135, 153, 169, 195, 215, 235, 252, 267, 283, 298, 306, 322, 329, 339, 348, 355, 363, 373, 376, 379, 380, 382, 385, 388, 393, 393, 395, 395, 395, 398, 420, 422, 425, 426, 427, 428, 429, 429, 429, 429, 429, 429, 429, 432, 436, 438, 438, 439, 440, 440, 440, 440, 440, 440, 440, 440, 440, 440, 440, 440, 440, 440, 440]\n",
            "121\n",
            "-----------------------\n",
            "[1, 3, 3, 4, 5, 8, 8, 9, 10, 10, 10, 10, 11, 11, 16, 16, 17, 18, 18, 18, 18, 18, 18, 18, 20, 22, 22, 23, 24, 26, 26, 28, 30, 31, 32, 32, 34, 39, 40, 41, 42, 42, 44, 45, 45, 45, 45, 47, 48, 49, 50, 53, 59, 67, 77, 100, 108, 135, 153, 169, 195, 215, 235, 252, 267, 283, 298, 306, 322, 329, 339, 348, 355, 363, 373, 376, 379, 380, 382, 385, 388, 393, 393, 395, 395, 395, 398, 420, 422, 425, 426, 427, 428, 429, 429, 429, 429, 429, 429, 429, 432, 436, 438, 438, 439, 440, 440, 440, 440, 440, 440, 440, 440, 440, 440, 440, 440, 440, 440, 440]\n",
            "120\n",
            "-----------------------\n"
          ],
          "name": "stdout"
        }
      ]
    },
    {
      "cell_type": "code",
      "metadata": {
        "id": "mrZPmxQxe772",
        "colab_type": "code",
        "colab": {}
      },
      "source": [
        ""
      ],
      "execution_count": 0,
      "outputs": []
    }
  ]
}