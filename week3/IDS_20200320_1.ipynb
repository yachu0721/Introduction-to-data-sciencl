{
  "nbformat": 4,
  "nbformat_minor": 0,
  "metadata": {
    "colab": {
      "name": "經濟二乙 A107260028 張雅筑",
      "provenance": []
    },
    "kernelspec": {
      "name": "python3",
      "display_name": "Python 3"
    }
  },
  "cells": [
    {
      "cell_type": "code",
      "metadata": {
        "id": "T059Qxcb8iA-",
        "colab_type": "code",
        "outputId": "864fd516-ec26-4497-cbb6-4ce67a64084b",
        "colab": {
          "base_uri": "https://localhost:8080/",
          "height": 123
        }
      },
      "source": [
        "movie_title =\"Avengers: Endgame\"\n",
        "movie_time =181\n",
        "movie_rating =8.4\n",
        "\n",
        "print(movie_time)\n",
        "print(movie_rating)\n",
        "print(movie_title)\n",
        "\n",
        "print(type(movie_time))\n",
        "print(type(movie_rating))\n",
        "print(type(movie_title))"
      ],
      "execution_count": 0,
      "outputs": [
        {
          "output_type": "stream",
          "text": [
            "181\n",
            "8.4\n",
            "Avengers: Endgame\n",
            "<class 'int'>\n",
            "<class 'float'>\n",
            "<class 'str'>\n"
          ],
          "name": "stdout"
        }
      ]
    }
  ]
}