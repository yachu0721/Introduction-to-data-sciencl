{
  "nbformat": 4,
  "nbformat_minor": 0,
  "metadata": {
    "colab": {
      "name": "IDS_20200515_1",
      "provenance": []
    },
    "kernelspec": {
      "name": "python3",
      "display_name": "Python 3"
    }
  },
  "cells": [
    {
      "cell_type": "code",
      "metadata": {
        "id": "iB6y62I2yHHx",
        "colab_type": "code",
        "colab": {
          "base_uri": "https://localhost:8080/",
          "height": 67
        },
        "outputId": "a10bb2b0-ff01-4704-9f0c-0c64f19b064f"
      },
      "source": [
        "primes_list = [2, 3, 5, 7, 11]\n",
        "primes_list[-1] = 13 # update\n",
        "print(primes_list)\n",
        "\n",
        "primes_list.insert(-1, 11) # increase length\n",
        "print(primes_list)\n",
        "\n",
        "primes_list.pop()\n",
        "print(primes_list)"
      ],
      "execution_count": 2,
      "outputs": [
        {
          "output_type": "stream",
          "text": [
            "[2, 3, 5, 7, 13]\n",
            "[2, 3, 5, 7, 11, 13]\n",
            "[2, 3, 5, 7, 11]\n"
          ],
          "name": "stdout"
        }
      ]
    },
    {
      "cell_type": "code",
      "metadata": {
        "id": "a1hADWRE7vql",
        "colab_type": "code",
        "colab": {
          "base_uri": "https://localhost:8080/",
          "height": 34
        },
        "outputId": "61195881-e302-4a5e-cf6f-6050290390db"
      },
      "source": [
        "primes = (2, 3, 5, 7, 11)\n",
        "print(type(primes))\n"
      ],
      "execution_count": 3,
      "outputs": [
        {
          "output_type": "stream",
          "text": [
            "<class 'tuple'>\n"
          ],
          "name": "stdout"
        }
      ]
    },
    {
      "cell_type": "code",
      "metadata": {
        "id": "rfqlxvpl8pH0",
        "colab_type": "code",
        "colab": {
          "base_uri": "https://localhost:8080/",
          "height": 101
        },
        "outputId": "c3f683d7-f432-4c39-ff3a-3310aab95fda"
      },
      "source": [
        "x = 0.25\n",
        "print(type(x))\n",
        "print(x.as_integer_ratio())\n",
        "print(type(x.as_integer_ratio()))\n",
        "\n",
        "numerator, denominator = x.as_integer_ratio()\n",
        "print(numerator)\n",
        "print(denominator)"
      ],
      "execution_count": 11,
      "outputs": [
        {
          "output_type": "stream",
          "text": [
            "<class 'float'>\n",
            "(1, 4)\n",
            "<class 'tuple'>\n",
            "1\n",
            "4\n"
          ],
          "name": "stdout"
        }
      ]
    },
    {
      "cell_type": "code",
      "metadata": {
        "id": "I8fTwovi9D8s",
        "colab_type": "code",
        "colab": {
          "base_uri": "https://localhost:8080/",
          "height": 84
        },
        "outputId": "36a965c8-b95e-4dbb-b786-d45893bd045c"
      },
      "source": [
        "def where_are_you_from(city, country):\n",
        "    return city, country\n",
        "\n",
        "print(where_are_you_from(\"Taipei\", \"Taiwan\"))\n",
        "print(type(where_are_you_from(\"Taipei\", \"Taiwan\")))\n",
        "\n",
        "my_city, my_country = where_are_you_from(\"Taipei\", \"Taiwan\")\n",
        "print(my_city)\n",
        "print(my_country)"
      ],
      "execution_count": 10,
      "outputs": [
        {
          "output_type": "stream",
          "text": [
            "('Taipei', 'Taiwan')\n",
            "<class 'tuple'>\n",
            "Taipei\n",
            "Taiwan\n"
          ],
          "name": "stdout"
        }
      ]
    },
    {
      "cell_type": "code",
      "metadata": {
        "id": "tA9LecZJ95K2",
        "colab_type": "code",
        "colab": {
          "base_uri": "https://localhost:8080/",
          "height": 138
        },
        "outputId": "71c0a9ae-e95a-4cd6-ced3-f223cf8dfa6e"
      },
      "source": [
        "the_avengers = {\n",
        "    \"Iron Man\": \"Tony Stark\",\n",
        "    \"Captain America\": \"Steve Rogers\",\n",
        "    \"Hulk\": \"Bruce Banner\",\n",
        "    \"Thor\": \"Thor\",\n",
        "    \"Black Widow\": \"Natasha Romanoff\",\n",
        "    \"Hawkeye\": \"Clint Barton\"\n",
        "}\n",
        "print(the_avengers)\n",
        "print(type(the_avengers))\n",
        "print(\"------------------------------\")\n",
        "\n",
        "print(the_avengers.keys())\n",
        "print(the_avengers.values())\n",
        "print(the_avengers.items()) # 6 組 tuples"
      ],
      "execution_count": 14,
      "outputs": [
        {
          "output_type": "stream",
          "text": [
            "{'Iron Man': 'Tony Stark', 'Captain America': 'Steve Rogers', 'Hulk': 'Bruce Banner', 'Thor': 'Thor', 'Black Widow': 'Natasha Romanoff', 'Hawkeye': 'Clint Barton'}\n",
            "<class 'dict'>\n",
            "------------------------------\n",
            "dict_keys(['Iron Man', 'Captain America', 'Hulk', 'Thor', 'Black Widow', 'Hawkeye'])\n",
            "dict_values(['Tony Stark', 'Steve Rogers', 'Bruce Banner', 'Thor', 'Natasha Romanoff', 'Clint Barton'])\n",
            "dict_items([('Iron Man', 'Tony Stark'), ('Captain America', 'Steve Rogers'), ('Hulk', 'Bruce Banner'), ('Thor', 'Thor'), ('Black Widow', 'Natasha Romanoff'), ('Hawkeye', 'Clint Barton')])\n"
          ],
          "name": "stdout"
        }
      ]
    },
    {
      "cell_type": "code",
      "metadata": {
        "id": "pqkCvMyJH_XX",
        "colab_type": "code",
        "colab": {
          "base_uri": "https://localhost:8080/",
          "height": 50
        },
        "outputId": "a0e6216d-e8f4-4bad-b7dc-f48786ac7458"
      },
      "source": [
        "living_area = input(\"請輸入您的居住城市:\")\n",
        "\n",
        "# 方法一\n",
        "living_cost = None\n",
        "if living_area == '臺北市':\n",
        "    living_cost = 17005\n",
        "elif living_area == '新北市':\n",
        "    living_cost = 15500\n",
        "elif living_area == '桃園市':\n",
        "    living_cost = 15281\n",
        "elif living_area == '臺中市':\n",
        "    living_cost = 14596\n",
        "elif living_area == '臺南市':\n",
        "    living_cost = 12388\n",
        "elif living_area == '高雄市':\n",
        "    living_cost = 13099\n",
        "elif living_area == '非六都之縣市':\n",
        "    living_cost = 12388\n",
        "elif living_area == '金門縣連江縣':\n",
        "    living_cost = 11648\n",
        "\n",
        "if living_cost is None:\n",
        "    print(\"請重新輸入居住縣市\")\n",
        "else:\n",
        "    print(\"{}的每人每月最低生活費為{:,}\".format(living_area, living_cost))"
      ],
      "execution_count": 44,
      "outputs": [
        {
          "output_type": "stream",
          "text": [
            "請輸入您的居住城市:桃園市\n",
            "桃園市的每人每月最低生活費為15,281\n"
          ],
          "name": "stdout"
        }
      ]
    },
    {
      "cell_type": "code",
      "metadata": {
        "id": "v8rLh8ZtGd0A",
        "colab_type": "code",
        "colab": {
          "base_uri": "https://localhost:8080/",
          "height": 50
        },
        "outputId": "db1997d0-2510-47a5-c547-c2a84d887f50"
      },
      "source": [
        "living_cost_dict = {\n",
        "    '臺北市' : 17005,\n",
        "    '新北市' : 15500,\n",
        "    '桃園市' : 15281,\n",
        "    '臺中市' : 14596,\n",
        "    '臺南市' : 12388,\n",
        "    '高雄市' : 13099,\n",
        "    '非六都之縣市' : 12388,\n",
        "    '金門縣連江縣' : 11648,\n",
        "}\n",
        "# 方法二\n",
        "living_area = input(\"請輸入您的居住城市:\")\n",
        "try:\n",
        "  living_cost = living_cost_dict[living_area]\n",
        "  print(\"{}的每人每月最低生活費為{:,}\".format(living_area, living_cost))\n",
        "except KeyError:\n",
        "    print(\"請重新輸入居住縣市\")"
      ],
      "execution_count": 48,
      "outputs": [
        {
          "output_type": "stream",
          "text": [
            "請輸入您的居住城市:花蓮市\n",
            "請重新輸入居住縣市\n"
          ],
          "name": "stdout"
        }
      ]
    },
    {
      "cell_type": "code",
      "metadata": {
        "id": "bh-sCx2JRT5S",
        "colab_type": "code",
        "colab": {
          "base_uri": "https://localhost:8080/",
          "height": 34
        },
        "outputId": "cfde3b6b-f6d7-496b-b4d1-677ea9707fe8"
      },
      "source": [
        "living_cost_dict = {\n",
        "    '臺北市' : 17005,\n",
        "    '新北市' : 15500,\n",
        "    '桃園市' : 15281,\n",
        "    '臺中市' : 14596,\n",
        "    '臺南市' : 12388,\n",
        "    '高雄市' : 13099,\n",
        "    '非六都之縣市' : 12388,\n",
        "    '金門縣連江縣' : 11648,\n",
        "}\n",
        "# 方法三\n",
        "#@title Default title text\n",
        "living_area = '\\u975E\\u516D\\u90FD\\u4E4B\\u7E23\\u5E02' #@param ['臺北市', '新北市', '桃園市', '臺中市', '臺南市', '高雄市', '非六都之縣市', '金門縣連江縣']\n",
        "living_cost = living_cost_dict[living_area]\n",
        "print(\"{}的每人每月最低生活費為{:,}\".format(living_area, living_cost))"
      ],
      "execution_count": 51,
      "outputs": [
        {
          "output_type": "stream",
          "text": [
            "非六都之縣市的每人每月最低生活費為12,388\n"
          ],
          "name": "stdout"
        }
      ]
    },
    {
      "cell_type": "code",
      "metadata": {
        "id": "G-9bAcEWVpgi",
        "colab_type": "code",
        "colab": {
          "base_uri": "https://localhost:8080/",
          "height": 101
        },
        "outputId": "88333b68-e130-4f75-a975-6093d47c9f6d"
      },
      "source": [
        "primes = {2, 3, 5, 7, 11, 13}\n",
        "print(primes)\n",
        "print(type(primes))\n",
        "\n",
        "primes_list = [2, 3, 3, 3, 5, 5]\n",
        "print(primes_list)\n",
        "\n",
        "print(set(primes_list))\n",
        "\n",
        "primes = {2, 3, 5, 7, 11, 13, 13, 13, 11, 11, 11, 11, 2, 2, 2}\n",
        "print(primes)"
      ],
      "execution_count": 53,
      "outputs": [
        {
          "output_type": "stream",
          "text": [
            "{2, 3, 5, 7, 11, 13}\n",
            "<class 'set'>\n",
            "[2, 3, 3, 3, 5, 5]\n",
            "{2, 3, 5}\n",
            "{2, 3, 5, 7, 11, 13}\n"
          ],
          "name": "stdout"
        }
      ]
    },
    {
      "cell_type": "code",
      "metadata": {
        "id": "oytatfGdW48r",
        "colab_type": "code",
        "colab": {
          "base_uri": "https://localhost:8080/",
          "height": 202
        },
        "outputId": "11c63e39-f78e-4bf9-c9ea-e0b1ca5c14bb"
      },
      "source": [
        "primes = {2, 3, 5, 7, 11, 13}\n",
        "odds = {1, 3, 5, 7, 9, 11, 13}\n",
        "#交集(.intersection)\n",
        "print(primes & odds)\n",
        "print(primes.intersection(odds))\n",
        "#聯集(.union)\n",
        "print(primes | odds)\n",
        "print(primes.union(odds))\n",
        "#差異(.difference)\n",
        "print(primes - odds)\n",
        "print(odds - primes)\n",
        "print(primes.difference(odds))\n",
        "print(odds.difference(primes))\n",
        "#對稱差異(.symmetric_difference)\n",
        "print((primes - odds) | (odds - primes))\n",
        "print(primes ^ odds)\n",
        "print(primes.symmetric_difference(odds))"
      ],
      "execution_count": 61,
      "outputs": [
        {
          "output_type": "stream",
          "text": [
            "{3, 5, 7, 11, 13}\n",
            "{3, 5, 7, 11, 13}\n",
            "{1, 2, 3, 5, 7, 9, 11, 13}\n",
            "{1, 2, 3, 5, 7, 9, 11, 13}\n",
            "{2}\n",
            "{1, 9}\n",
            "{2}\n",
            "{1, 9}\n",
            "{1, 2, 9}\n",
            "{1, 2, 9}\n",
            "{1, 2, 9}\n"
          ],
          "name": "stdout"
        }
      ]
    },
    {
      "cell_type": "code",
      "metadata": {
        "id": "JSc-Zn-tZZfM",
        "colab_type": "code",
        "colab": {}
      },
      "source": [
        ""
      ],
      "execution_count": 0,
      "outputs": []
    }
  ]
}