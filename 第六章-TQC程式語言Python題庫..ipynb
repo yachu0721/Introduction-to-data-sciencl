{
 "cells": [
  {
   "cell_type": "markdown",
   "metadata": {},
   "source": [
    "### <mark><font color=#7A378B siza=4>第6類：串列(List)的運作(一維、二維以及多維)<font><mark>"
   ]
  },
  {
   "cell_type": "markdown",
   "metadata": {},
   "source": [
    "**<font color=#D2691E size=3>TQC+ 程式語言Python 611</font>**\t\n",
    "\n",
    "**<font color=#000080>撰寫一程式，將一宣告好的整數串列（大小為5）傳遞給名為output(aList)的函式，此函式將以使用者的輸入初始化後，在將之回傳道主程式並輸出該串列。接著，主程式將該串列傳遞給名為max(aList)和min(aList)函式，並分別回傳後輸出aList的最大值(Max)和最小值(Min)。</font>**\n",
    "\n",
    "\n",
    "**<font color=#000080>範例輸入:  \n",
    "    4  \n",
    "    5  \n",
    "    3  \n",
    "    -2  \n",
    "    9  \n",
    "範例輸出:  \n",
    "   [4,5,3,-2,9]  \n",
    "    Max=9  \n",
    "    Min=-2  </font>**"
   ]
  },
  {
   "cell_type": "code",
   "execution_count": 1,
   "metadata": {},
   "outputs": [
    {
     "name": "stdout",
     "output_type": "stream",
     "text": [
      "4\n",
      "5\n",
      "2\n",
      "-3\n",
      "9\n",
      "[4, 5, 2, -3, 9]\n",
      "Max =  9\n",
      "Min =  -3\n"
     ]
    }
   ],
   "source": [
    "def output(aList):\n",
    "    for i in range(len(aList)):\n",
    "        aList[i] = eval(input())\n",
    "    return aList\n",
    "\n",
    "def max(aList):\n",
    "    max_num = aList[0]\n",
    "    for i in range(len(aList)):\n",
    "        if aList[i] > max_num:\n",
    "            max_num = aList[i]\n",
    "    return max_num\n",
    "\n",
    "def min(aList):\n",
    "    min_num = aList[0]\n",
    "    for i in range(len(aList)):\n",
    "        if aList[i] < min_num:\n",
    "            min_num = aList[i]\n",
    "    return min_num\n",
    "\n",
    "def main():\n",
    "    lst = [0] * 5\n",
    "    print(output(lst))\n",
    "    print(\"Max = \", max(lst)) # 利用max函式，回傳串列中最大的項目\n",
    "    print(\"Min = \", min(lst)) # 利用min函式，回傳串列中最小的項目\n",
    "\n",
    "main()"
   ]
  },
  {
   "cell_type": "markdown",
   "metadata": {},
   "source": [
    "**<font color=#D2691E size=3>TQC+ 程式語言Python 612</font>**\n",
    "\n",
    "**<font color=#000080>撰寫一程式，讓輸入者輸入十個不重覆的數字到串列，並將該串列傳遞給名為comput()的函式。 此函式接收一個串列lst和一個數字a（預設為3)，並回傳lst中a個最大的數字，最後再將回傳結果輸出。</font>**  \n",
    "\n",
    "\n",
    "  **<font color=#000080>範例輸入:  \n",
    "   45  \n",
    "   89  \n",
    "   -3  \n",
    "   17  \n",
    "   92  \n",
    "   24  \n",
    "   38  \n",
    "   -23  \n",
    "   55  \n",
    "   10  \n",
    "範例輸出:  \n",
    "   [45, 89, -3, 17, 92, 24, 38, -23, 55, 10]  \n",
    "   [92, 89, 55]  </font>**  "
   ]
  },
  {
   "cell_type": "code",
   "execution_count": 2,
   "metadata": {},
   "outputs": [
    {
     "name": "stdout",
     "output_type": "stream",
     "text": [
      "45\n",
      "89\n",
      "-3\n",
      "17\n",
      "92\n",
      "24\n",
      "38\n",
      "-23\n",
      "55\n",
      "10\n",
      "[45, 89, -3, 17, 92, 24, 38, -23, 55, 10]\n",
      "[-23, -3, 10]\n"
     ]
    }
   ],
   "source": [
    "def compute(lst, a=3):\n",
    "    lst.sort()\n",
    "    ans = []\n",
    "    for i in range(a):\n",
    "        ans.append(lst[i])\n",
    "    return ans\n",
    "\n",
    "def main():\n",
    "    lst = []\n",
    "    for i in range(10):\n",
    "        num = eval(input())\n",
    "        lst.append(num)\n",
    "    print(lst)\n",
    "    print(compute(lst))\n",
    "\n",
    "main()"
   ]
  },
  {
   "cell_type": "markdown",
   "metadata": {},
   "source": [
    "**<font color=#D2691E size=3>TQC+ 程式語言Python 613 </font>**\n",
    "\n",
    "\n",
    "**<font color=#000080>撰寫一程式，以lotto()產生大樂透號碼，並以main()函式呼叫五次lotto()函式。亦即產生五組大樂透號碼。請將樂透號碼由小到大排序。</font>** "
   ]
  },
  {
   "cell_type": "code",
   "execution_count": 3,
   "metadata": {},
   "outputs": [
    {
     "name": "stdout",
     "output_type": "stream",
     "text": [
      "[6, 10, 14, 18, 36, 42]\n",
      "[2, 12, 16, 21, 37, 47]\n",
      "[8, 10, 26, 35, 42, 45]\n",
      "[11, 13, 20, 24, 29, 35]\n",
      "[2, 3, 34, 35, 36, 38]\n"
     ]
    }
   ],
   "source": [
    "import random\n",
    "\n",
    "def lotto():\n",
    "    lottoLst = []\n",
    "    count = 0\n",
    "    while count < 6:\n",
    "        lottoNum = random.randint(1,49)\n",
    "        if lottoNum not in lottoLst:\n",
    "            lottoLst.append(lottoNum)\n",
    "            count += 1\n",
    "    lottoLst.sort()\n",
    "    print(lottoLst)\n",
    "\n",
    "def main():\n",
    "    for i in range(1,6):\n",
    "        lotto()\n",
    "\n",
    "main()"
   ]
  },
  {
   "cell_type": "markdown",
   "metadata": {},
   "source": [
    "**<font color=#D2691E size=3>TQC+ 程式語言Python 614 </font>**\n",
    "\n",
    "\n",
    "**<font color=#000080>撰寫一程式，以隨機亂數的方式產生100個介於1~1000的亂數，將它置於randLst串列中，然後印出第二小的數和第二大的數。</font>** "
   ]
  },
  {
   "cell_type": "code",
   "execution_count": 6,
   "metadata": {},
   "outputs": [
    {
     "name": "stdout",
     "output_type": "stream",
     "text": [
      "   1  19  34  48  48  63  64  64  70  75\n",
      "  86  91  94  94 108 111 113 119 127 163\n",
      " 173 186 193 201 217 224 227 227 231 243\n",
      " 244 254 258 281 293 294 314 326 350 359\n",
      " 361 368 377 399 402 407 417 418 430 440\n",
      " 440 442 451 469 476 482 484 537 542 548\n",
      " 558 560 565 568 593 628 654 656 688 696\n",
      " 704 710 732 750 767 768 770 783 793 795\n",
      " 796 837 855 864 875 878 878 882 886 910\n",
      " 912 915 915 915 922 940 949 963 969 998\n",
      "\n",
      "19\n",
      "969\n"
     ]
    }
   ],
   "source": [
    "import random\n",
    "randLst = []\n",
    "for i in range (100):\n",
    "    randNum = random.randint(1, 1000)\n",
    "    randLst.append(randNum)\n",
    "\n",
    "randLst.sort()\n",
    "for j in range(1, 101):\n",
    "    if j % 10 == 0:\n",
    "        print(\"%4d\" %(randLst[j-1]))\n",
    "    else:\n",
    "        print(\"%4d\" %(randLst[j-1]), end = '')\n",
    "\n",
    "print()\n",
    "print(randLst[1])\n",
    "print(randLst[len(randLst) - 2 ])"
   ]
  },
  {
   "cell_type": "markdown",
   "metadata": {},
   "source": [
    " **<font color=#D2691E size=3>TQC+ 程式語言Python 615 </font>**\n",
    "\n",
    "\n",
    "**<font color=#000080>承範例614，這100個亂數不能重覆。</font>** "
   ]
  },
  {
   "cell_type": "code",
   "execution_count": 5,
   "metadata": {},
   "outputs": [
    {
     "name": "stdout",
     "output_type": "stream",
     "text": [
      "   2    8   32   42   60   71   87   88   96  120\n",
      " 121  139  143  161  189  197  218  223  225  237\n",
      " 243  253  254  256  257  258  259  264  266  270\n",
      " 276  296  302  314  325  330  339  351  362  368\n",
      " 371  378  387  394  414  422  434  454  463  469\n",
      " 475  494  526  544  556  572  574  582  586  591\n",
      " 606  614  630  640  641  644  645  651  656  661\n",
      " 665  672  679  681  686  695  720  755  757  764\n",
      " 786  793  816  817  828  841  848  860  882  885\n",
      " 909  916  925  933  973  974  980  983  990  994\n",
      "\n",
      "8\n",
      "990\n"
     ]
    }
   ],
   "source": [
    "import random\n",
    "randLst = []\n",
    "count = 1\n",
    "\n",
    "while count <= 100:\n",
    "    randNum = random.randint(1,1000)\n",
    "    if randNum not in randLst:\n",
    "        randLst.append(randNum)\n",
    "        count += 1\n",
    "\n",
    "randLst.sort()\n",
    "for j in range(1, 101):\n",
    "    if j % 10 == 0:\n",
    "        print(\"%4d\" %(randLst[j-1]))\n",
    "    else:\n",
    "        print(\"%4d\" %(randLst[j-1]), end = \" \")\n",
    "\n",
    "print()\n",
    "print(randLst[1])\n",
    "print(randLst[len(randLst) - 2 ])"
   ]
  },
  {
   "cell_type": "markdown",
   "metadata": {},
   "source": [
    "**<font color=#D2691E size=3>TQC+ 程式語言Python習題601  </font>**\n",
    "\n",
    "\n",
    "**<font color=#000080>修改綜合範例9，在main()函式中輸入兩個2*2的矩陣元素值，然後將這兩個串列傳送給add()函式用以相加這兩個串列，以及show()函式用以將串列印出。</font>**  \n",
    "**<font color=#000080>  \n",
    "輸入:  \n",
    " Enter matrix1:  \n",
    " [1 1]: 3  \n",
    " [1 2]: 5  \n",
    " [2 1]: 7  \n",
    " [2 2]: 5  \n",
    " Enter matrix2:  \n",
    " [1 1]: 6  \n",
    " [1 2]: 9  \n",
    " [2 1]: 8  \n",
    " [2 2]: 3  \n",
    " 輸出:  \n",
    "  Matrix 1  \n",
    "    3  5  \n",
    "    7  5  \n",
    "  Matrix 2  \n",
    "    6  9  \n",
    "    8  3  \n",
    "  Sum of matrices  \n",
    "    9 14  \n",
    "   15  8</font>**"
   ]
  },
  {
   "cell_type": "code",
   "execution_count": 7,
   "metadata": {},
   "outputs": [
    {
     "name": "stdout",
     "output_type": "stream",
     "text": [
      "Enter matrix1: \n",
      "[1 1]: 3\n",
      "[1 2]: 5\n",
      "[2 1]: 7\n",
      "[2 2]: 5\n",
      "Enter matrix2: \n",
      "[1 1]: 6\n",
      "[1 2]: 9\n",
      "[2 1]: 8\n",
      "[2 2]: 3\n",
      "Matrix 1\n",
      "  3  5\n",
      "  7  5\n",
      "Matrix 2\n",
      "  6  9\n",
      "  8  3\n",
      "Sum of matrices\n",
      "  9 14\n",
      " 15  8\n"
     ]
    }
   ],
   "source": [
    "ROWS = 2\n",
    "COLS = 2\n",
    "def add(lst1, lst2):\n",
    "    print('Sum of matrices')\n",
    "    for i in range(ROWS):\n",
    "        for j in range(COLS):\n",
    "            print('%3d'%(lst1[i][j]+lst2[i][j]),end = '')\n",
    "        print()\n",
    "\n",
    "def show(alst):\n",
    "    for i in range(ROWS):\n",
    "        for j in range(COLS):\n",
    "            print('%3d'%(alst[i][j]), end = '')\n",
    "        print()\n",
    "\n",
    "def main():\n",
    "    mat1 = []\n",
    "    mat2 = []\n",
    "    print('Enter matrix1: ')\n",
    "    for i in range(ROWS):\n",
    "        mat1.append([])\n",
    "        for j in range(COLS):\n",
    "            print('[%d %d]: '%(i+1, j+1), end = '')\n",
    "            mat1[i].append(eval(input()))\n",
    "\n",
    "    print('Enter matrix2: ')\n",
    "    for i in range(ROWS):\n",
    "        mat2.append([])\n",
    "        for j in range(COLS):\n",
    "            print('[%d %d]: '%(i+1, j+1), end = '')\n",
    "            mat2[i].append(eval(input()))\n",
    "\n",
    "    print('Matrix 1')\n",
    "    show(mat1)\n",
    "    print('Matrix 2')\n",
    "    show(mat2)\n",
    "\n",
    "    add(mat1, mat2)\n",
    "\n",
    "main()"
   ]
  },
  {
   "cell_type": "markdown",
   "metadata": {},
   "source": [
    "**<font color=#D2691E size=3>TQC+ 程式語言Python習題602  </font>**  \n",
    "**<font color=#000080>請撰寫一程式，以習題1為參考樣本，在main()函式中輸入兩個2*2的矩陣元素值，然後將這兩個串列傳送給multiply()函式用以相乘這兩個串列，以及利用show()函式將串列加以印出。</font>**\n",
    "\n",
    "**<font color=#000080> 輸入:  \n",
    " Enter matrix1:  \n",
    " [1 1]: 1  \n",
    " [1 2]: 2  \n",
    " [2 1]: 3  \n",
    " [2 2]: 4  \n",
    " Enter matrix2:  \n",
    " [1 1]: 5  \n",
    " [1 2]: 6  \n",
    " [2 1]: 7  \n",
    " [2 2]: 8  \n",
    " 輸出:  \n",
    "  Matrix 1  \n",
    "    1  2  \n",
    "    3  4  \n",
    "  Matrix 2  \n",
    "    5  6  \n",
    "    7  8  \n",
    "  Sum of matrices  \n",
    "   19 22  \n",
    "   43 50</font>**"
   ]
  },
  {
   "cell_type": "code",
   "execution_count": 8,
   "metadata": {},
   "outputs": [
    {
     "name": "stdout",
     "output_type": "stream",
     "text": [
      "Enter matrix1: \n",
      "[1 1]: 1\n",
      "[1 2]: 2\n",
      "[2 1]: 3\n",
      "[2 2]: 4\n",
      "Enter matrix2: \n",
      "[1 1]: 5\n",
      "[1 2]: 6\n",
      "[2 1]: 7\n",
      "[2 2]: 8\n",
      "Matrix 1\n",
      "  1  2\n",
      "  3  4\n",
      "Matrix 2\n",
      "  5  6\n",
      "  7  8\n",
      "Sum of matrices\n",
      " 19 22\n",
      " 43 50\n"
     ]
    }
   ],
   "source": [
    "ROWS = 2\n",
    "COLS = 2\n",
    "\n",
    "def multiply(lst1, lst2):\n",
    "    print('Sum of matrices')\n",
    "    for i in range(ROWS):\n",
    "        for j in range(COLS):\n",
    "            print('%3d'%(lst1[i][0]*lst2[0][j]+lst1[i][1]*lst2[1][j]), end = '')\n",
    "        print()\n",
    "\n",
    "def show(alst):\n",
    "    for i in range(ROWS):\n",
    "        for j in range(COLS):\n",
    "            print('%3d'%(alst[i][j]), end = '')\n",
    "        print()\n",
    "\n",
    "def main():\n",
    "    mat1 = []\n",
    "    mat2 = []\n",
    "    print('Enter matrix1: ')\n",
    "    for i in range(ROWS):\n",
    "        mat1.append([])\n",
    "        for j in range(COLS):\n",
    "            print('[%d %d]: '%(i+1, j+1), end = '')\n",
    "            mat1[i].append(eval(input()))\n",
    "    \n",
    "    print('Enter matrix2: ')\n",
    "    for i in range(ROWS):\n",
    "        mat2.append([])\n",
    "        for j in range(COLS):\n",
    "            print('[%d %d]: '%(i+1, j+1), end = '')\n",
    "            mat2[i].append(eval(input()))\n",
    "\n",
    "    print('Matrix 1')\n",
    "    show(mat1)\n",
    "    print('Matrix 2')\n",
    "    show(mat2)\n",
    "\n",
    "    multiply(mat1, mat2)\n",
    "\n",
    "main()"
   ]
  },
  {
   "cell_type": "markdown",
   "metadata": {},
   "source": [
    "**<font color=#D2691E size=3>TQC+ 程式語言Python習題603  </font>**  \n",
    "**<font color=#000080>試修改綜合範例15，在main()函式以隨機亂數的方式產生100個介於1~1000間的亂數，並置放於randLst串列中，然後將此串列傳送給maxAndmin()函式，找出此串列的第二大的數和第二小的數並加以印出。</font>**"
   ]
  },
  {
   "cell_type": "code",
   "execution_count": 9,
   "metadata": {},
   "outputs": [
    {
     "name": "stdout",
     "output_type": "stream",
     "text": [
      "  16  50  67  72  79  81  85  88  91 117\n",
      " 118 125 134 136 144 159 176 184 212 215\n",
      " 219 220 234 243 246 247 260 266 273 279\n",
      " 285 288 295 311 317 333 359 366 370 387\n",
      " 393 398 417 420 447 448 450 472 476 478\n",
      " 483 489 492 514 516 521 532 534 558 572\n",
      " 579 581 582 611 612 630 638 651 656 664\n",
      " 666 668 673 685 692 695 708 715 730 737\n",
      " 748 754 773 775 795 847 855 859 865 874\n",
      " 888 889 927 934 940 957 965 973 992 994\n",
      "50\n",
      "992\n"
     ]
    }
   ],
   "source": [
    "import random\n",
    "def maxAndMin(aLst):\n",
    "    aLst.sort()\n",
    "    for j in range(1, 101):\n",
    "        if j % 10 == 0:\n",
    "            print('%4d'%(aLst[j-1]))\n",
    "        else:\n",
    "            print('%4d'%(aLst[j-1]), end = '')\n",
    "\n",
    "    print(aLst[1])\n",
    "    print(aLst[len(aLst) - 2])\n",
    "\n",
    "def main():\n",
    "    randLst = []\n",
    "    count = 1\n",
    "    while count <= 100:\n",
    "        randNum = random.randint(1, 1000)\n",
    "        if randNum not in randLst:\n",
    "           randLst.append(randNum)\n",
    "           count += 1\n",
    "    maxAndMin(randLst)\n",
    "\n",
    "main()"
   ]
  },
  {
   "cell_type": "markdown",
   "metadata": {},
   "source": [
    "**<font color=#D2691E size=3>TQC+ 程式語言Python習題604  </font>**  \n",
    "**<font color=#000080>撰寫一程式，在main()函式輸入十筆資料於alst串列中，呼叫meanAndsd()函式，計算此十筆資料的平均數和標準差，最後將平均數和標準差回傳給main()加以印出。</font>**  \n",
    "**<font color=#000080>*提示:平均數=1/n($x_1$+$x_2$+...+$x_n$)，標準差$S= \\sqrt{\\sum (x-\\bar{x})^2/(n-1)}$。</font>**\n",
    "\n",
    "**<font color=#000080> 輸入:  \n",
    "  1  \n",
    "  2  \n",
    "  3  \n",
    "  4  \n",
    "  5  \n",
    "  6  \n",
    "  7  \n",
    "  8  \n",
    "  9  \n",
    "  10  \n",
    "輸出:  \n",
    "  [1, 2, 3, 4, 5, 6, 7, 8, 9, 10]  \n",
    "  mean = 5.50, standard deviation = 3.03</font>**"
   ]
  },
  {
   "cell_type": "code",
   "execution_count": 10,
   "metadata": {},
   "outputs": [
    {
     "name": "stdout",
     "output_type": "stream",
     "text": [
      "1\n",
      "2\n",
      "3\n",
      "4\n",
      "5\n",
      "6\n",
      "7\n",
      "8\n",
      "9\n",
      "10\n",
      "[1, 2, 3, 4, 5, 6, 7, 8, 9, 10]\n",
      "mean = 5.50, standard deviation = 3.03\n"
     ]
    }
   ],
   "source": [
    "import math\n",
    "def meanAndsd(lst):\n",
    "    total = 0\n",
    "    ss = 0\n",
    "    for i in range(len(lst)):\n",
    "        total += lst[i]\n",
    "    mean = total / len(lst)\n",
    "    for j in range(len(lst)):\n",
    "        ss += (lst[j] - mean) ** 2\n",
    "    sd = math.sqrt(ss / (len(lst)-1))\n",
    "    return mean, sd\n",
    "\n",
    "def main():\n",
    "    alst = []\n",
    "    for k in range(1, 11):\n",
    "        num = eval(input())\n",
    "        alst.append(num)\n",
    "    print(alst)\n",
    "    m, s = meanAndsd(alst)\n",
    "    print('mean = %.2f, standard deviation = %.2f'%(m, s))\n",
    "\n",
    "main()"
   ]
  },
  {
   "cell_type": "markdown",
   "metadata": {},
   "source": [
    "**<font color=#D2691E size=3>TQC+ 程式語言Python習題605  </font>**  \n",
    "**<font color=#000080>修改綜合範例7，在main()函式中呼叫inputDate()函式，用以輸入三位同學各五筆Python的考試成績，並儲存於名為lst35的二維串列，接下來呼叫totAver()函式用以計算每位學生的總和和平均分數。</font>**\n",
    "\n",
    "**<font color=#000080> 輸入:  \n",
    " student 1  \n",
    " 78  \n",
    " 89  \n",
    " 88  \n",
    " 70  \n",
    " 60  \n",
    " student 2  \n",
    " 90  \n",
    " 78  \n",
    " 66  \n",
    " 68  \n",
    " 78  \n",
    " student 3  \n",
    " 69  \n",
    " 97  \n",
    " 70  \n",
    " 89  \n",
    " 90  \n",
    "輸出:  \n",
    "student 1 :  \n",
    " sum = 385, average = 77.00  \n",
    "student 2 :  \n",
    " sum = 380, average = 76.00     \n",
    "student 3 :  \n",
    " sum = 415, average = 83.00</font>**"
   ]
  },
  {
   "cell_type": "code",
   "execution_count": 11,
   "metadata": {},
   "outputs": [
    {
     "name": "stdout",
     "output_type": "stream",
     "text": [
      "#1 student\n",
      "78\n",
      "89\n",
      "88\n",
      "70\n",
      "60\n",
      "#2 student\n",
      "90\n",
      "78\n",
      "66\n",
      "68\n",
      "78\n",
      "#3 student\n",
      "69\n",
      "97\n",
      "70\n",
      "89\n",
      "90\n",
      "#1 student:\n",
      "sum = 385, average = 77.00\n",
      "\n",
      "#2 student:\n",
      "sum = 380, average = 76.00\n",
      "\n",
      "#3 student:\n",
      "sum = 415, average = 83.00\n",
      "\n"
     ]
    }
   ],
   "source": [
    "def inputData():\n",
    "    lst35 = []\n",
    "    for i in range(3):\n",
    "        lst35.append([])\n",
    "        print('#%d student'%(i+1))\n",
    "        for j in range(5):\n",
    "            score = eval(input())\n",
    "            lst35[i].append(score)\n",
    "    return lst35\n",
    "\n",
    "def totAver(alst):\n",
    "    for i in range(len(alst)):\n",
    "        sum = 0\n",
    "        average = 0.0\n",
    "        for j in range(len(alst[0])):\n",
    "            sum += alst[i][j]\n",
    "            average = sum / 5\n",
    "        print('#%d student:'%(i+1))\n",
    "        print('sum = %d, average = %.2f'%(sum, average))\n",
    "        print()\n",
    "\n",
    "def main():\n",
    "    lst35 = inputData()\n",
    "    totAver(lst35)\n",
    "\n",
    "main()"
   ]
  },
  {
   "cell_type": "markdown",
   "metadata": {},
   "source": [
    "**<font color=#D2691E size=3>TQC+ 程式語言Python習題606  </font>**  \n",
    "**<font color=#000080>請撰寫一程式，讓使用者輸入兩個正整數a、b，其中a<=b，並將其傳遞給名為compute()的函式，該函式回傳從a到b內(含)所有Armstrong numbers的串列。最後再將回傳結果輸出。  \n",
    "提示:所謂的阿姆斯壯數(Armstrong number)指的是一個n位數的正整數，它的所有位數的n次方和恰好等於自己(如:1634=1^4+6^4+3^4+4^4)。</font>**\n",
    "\n",
    "**<font color=#000080> \n",
    "輸入:  \n",
    "  20   \n",
    "  2000  \n",
    "輸出:  \n",
    "  153 370 371 407 1634</font>**  "
   ]
  },
  {
   "cell_type": "code",
   "execution_count": 12,
   "metadata": {},
   "outputs": [
    {
     "name": "stdout",
     "output_type": "stream",
     "text": [
      "20\n",
      "2000\n",
      "1533703714071634"
     ]
    }
   ],
   "source": [
    "def compute(a, b):\n",
    "    lst = []\n",
    "    for i in range(a, b+1):\n",
    "        num_len = len(str(i))\n",
    "        tmp = 0\n",
    "\n",
    "        for j in range(0, num_len):\n",
    "            tmp += ((i//(10**j))%10)**num_len\n",
    "\n",
    "        if i == tmp:\n",
    "            lst.append(i)\n",
    "    return lst\n",
    "\n",
    "a = eval(input())\n",
    "b = eval(input())\n",
    "\n",
    "armstrong_list = compute(a, b)\n",
    "\n",
    "for i in range(len(armstrong_list)):\n",
    "    print (armstrong_list[i], end = '')"
   ]
  }
 ],
 "metadata": {
  "kernelspec": {
   "display_name": "Python 3",
   "language": "python",
   "name": "python3"
  },
  "language_info": {
   "codemirror_mode": {
    "name": "ipython",
    "version": 3
   },
   "file_extension": ".py",
   "mimetype": "text/x-python",
   "name": "python",
   "nbconvert_exporter": "python",
   "pygments_lexer": "ipython3",
   "version": "3.7.6"
  }
 },
 "nbformat": 4,
 "nbformat_minor": 4
}
