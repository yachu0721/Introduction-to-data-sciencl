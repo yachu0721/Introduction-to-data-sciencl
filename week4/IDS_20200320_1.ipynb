{
  "nbformat": 4,
  "nbformat_minor": 0,
  "metadata": {
    "colab": {
      "name": "A107260028 經濟二乙 張雅筑 2020/03/27",
      "provenance": []
    },
    "kernelspec": {
      "name": "python3",
      "display_name": "Python 3"
    }
  },
  "cells": [
    {
      "cell_type": "code",
      "metadata": {
        "id": "jtLFNWIZnYmv",
        "colab_type": "code",
        "outputId": "6e4866de-ea4b-4cac-8f1f-68dc428a2af5",
        "colab": {
          "base_uri": "https://localhost:8080/",
          "height": 34
        }
      },
      "source": [
        " current_celsius = 28\n",
        " current_fahrenheit  = current_celsius*9/5+32\n",
        " print(current_fahrenheit)"
      ],
      "execution_count": 0,
      "outputs": [
        {
          "output_type": "stream",
          "text": [
            "82.4\n"
          ],
          "name": "stdout"
        }
      ]
    },
    {
      "cell_type": "code",
      "metadata": {
        "id": "Ic9JBhVHrSg4",
        "colab_type": "code",
        "outputId": "a33d895a-8f9b-4d97-a67e-c9a9e02bbd8d",
        "colab": {
          "base_uri": "https://localhost:8080/",
          "height": 34
        }
      },
      "source": [
        " current_fahrenheit = 82.4\n",
        " current_celsius = (current_fahrenheit-32)*5/9\n",
        " print(current_celsius)"
      ],
      "execution_count": 0,
      "outputs": [
        {
          "output_type": "stream",
          "text": [
            "28.000000000000004\n"
          ],
          "name": "stdout"
        }
      ]
    },
    {
      "cell_type": "code",
      "metadata": {
        "id": "3VTuxoL8rFm3",
        "colab_type": "code",
        "outputId": "4ea6001d-1d80-46b1-90ba-ac94b93a8eb4",
        "colab": {
          "base_uri": "https://localhost:8080/",
          "height": 34
        }
      },
      "source": [
        "#shaq_height = 216(cm) \n",
        "#shaq_weight = 147(kg)\n",
        "shaq_height = 216 \n",
        "shaq_weight = 147\n",
        "#BMI = 體重(公斤) / 身高**2(公尺**2)  \n",
        "#shaq_bmi = shaq_weight(kg)/shaq_height(m)**2\n",
        "shaq_bmi = shaq_weight/((shaq_height/100)**2)\n",
        "print(shaq_bmi)"
      ],
      "execution_count": 0,
      "outputs": [
        {
          "output_type": "stream",
          "text": [
            "31.507201646090532\n"
          ],
          "name": "stdout"
        }
      ]
    },
    {
      "cell_type": "code",
      "metadata": {
        "id": "pLfiHnNLs7DI",
        "colab_type": "code",
        "outputId": "88730123-0ec1-4f3c-d598-e155f9a81dd5",
        "colab": {
          "base_uri": "https://localhost:8080/",
          "height": 51
        }
      },
      "source": [
        "# '***' 中間文字(***)有'要在前面加 \\\n",
        "ross_said = 'Let\\'s put aside the fact that you\\ \"accidentally\" pick up my grandmother\\'s ring.'\n",
        "print(ross_said)"
      ],
      "execution_count": 0,
      "outputs": [
        {
          "output_type": "stream",
          "text": [
            "Let's put aside the fact that you\\ \"accidentally\" pick up my grandmother's ring.\n",
            "ERROR! Session/line number was not unique in database. History logging moved to new session 66\n"
          ],
          "name": "stdout"
        }
      ]
    },
    {
      "cell_type": "code",
      "metadata": {
        "id": "5pn4YOTs4c5Y",
        "colab_type": "code",
        "outputId": "1b1e4b70-592b-4ada-a356-448f969843ba",
        "colab": {
          "base_uri": "https://localhost:8080/",
          "height": 34
        }
      },
      "source": [
        "# \"***\" 中間文字(***)有'可以直接運行，如果再有一組\"\"，則要在\"前面加 \\\n",
        "ross_said = \"Let's put aside the fact that you \\\"accidentally\\\" pick up my grandmother's ring.\"\n",
        "print(ross_said)"
      ],
      "execution_count": 0,
      "outputs": [
        {
          "output_type": "stream",
          "text": [
            "Let's put aside the fact that you \"accidentally\" pick up my grandmother's ring.\n"
          ],
          "name": "stdout"
        }
      ]
    },
    {
      "cell_type": "code",
      "metadata": {
        "id": "3zxvEDZb3yOP",
        "colab_type": "code",
        "outputId": "7f4909bb-18a5-4f3c-da1f-5fdbcd77a854",
        "colab": {
          "base_uri": "https://localhost:8080/",
          "height": 34
        }
      },
      "source": [
        "# 可以使用六個雙引號(\"\"\"******\"\"\")來建立長文字，像是一個有換行的文章段落\n",
        "ross_said = \"\"\"Let's put aside the fact that you \"accidentally\" pick up my grandmother's ring.\"\"\"\n",
        "print(ross_said)"
      ],
      "execution_count": 0,
      "outputs": [
        {
          "output_type": "stream",
          "text": [
            "Let's put aside the fact that you \"accidentally\" pick up my grandmother's ring.\n"
          ],
          "name": "stdout"
        }
      ]
    },
    {
      "cell_type": "code",
      "metadata": {
        "id": "k_I1d8695-BH",
        "colab_type": "code",
        "outputId": "e1cbc265-01ad-42e3-a481-af7e236e8564",
        "colab": {
          "base_uri": "https://localhost:8080/",
          "height": 68
        }
      },
      "source": [
        "city = input(\"請輸入您所在的城市：\") \n",
        "weather = input(\"請輸入現在的天氣：\") \n",
        "print(\"我在{}，天氣{}\".format(city, weather))"
      ],
      "execution_count": 0,
      "outputs": [
        {
          "output_type": "stream",
          "text": [
            "請輸入您所在的城市：台北市文山區\n",
            "請輸入現在的天氣：晴朗\n",
            "我在台北市文山區，天氣晴朗\n"
          ],
          "name": "stdout"
        }
      ]
    },
    {
      "cell_type": "code",
      "metadata": {
        "id": "H75yIgSeI072",
        "colab_type": "code",
        "outputId": "6f5961b4-f4db-4e69-d8e0-3b6dd18d81c6",
        "colab": {
          "base_uri": "https://localhost:8080/",
          "height": 34
        }
      },
      "source": [
        "id_last_digit = 3\n",
        "id_last_digit % 2 == 1"
      ],
      "execution_count": 0,
      "outputs": [
        {
          "output_type": "execute_result",
          "data": {
            "text/plain": [
              "True"
            ]
          },
          "metadata": {
            "tags": []
          },
          "execution_count": 57
        }
      ]
    },
    {
      "cell_type": "code",
      "metadata": {
        "id": "Rcw3o9q97E39",
        "colab_type": "code",
        "outputId": "44ed0be2-58b8-4f57-9b66-e491812c24ca",
        "colab": {
          "base_uri": "https://localhost:8080/",
          "height": 102
        }
      },
      "source": [
        "player_name = input(\"球員姓名：\") \n",
        "player_height = input(\"球員身高：\")  \n",
        "player_weight = input(\"球員體重：\") \n",
        "# 透過 input() 函數獲得的資料類別是文字，轉換函數 1. int()：轉換為整數類別 2. float()：轉換為浮點數類別 3. str()：轉換為文字類別 4. bool()：轉換為布林類別\n",
        "player_height = float(player_height) \n",
        "player_weight = float(player_weight) \n",
        "player_bmi = player_weight/((player_height/100)**2)\n",
        "\n",
        "print(\"{}的身體質量指數為：{:.2f}\".format(player_name, player_bmi)) \n",
        "print(\"{}是否過重：{}\".format(player_name, player_bmi > 30))\n"
      ],
      "execution_count": 0,
      "outputs": [
        {
          "output_type": "stream",
          "text": [
            "球員姓名：俠客歐尼爾\n",
            "球員身高：216\n",
            "球員體重：147\n",
            "俠客歐尼爾的身體質量指數為：31.51\n",
            "俠客歐尼爾是否過重：True\n"
          ],
          "name": "stdout"
        }
      ]
    }
  ]
}