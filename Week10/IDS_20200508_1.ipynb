{
  "nbformat": 4,
  "nbformat_minor": 0,
  "metadata": {
    "colab": {
      "name": "IDS_20200508_1",
      "provenance": []
    },
    "kernelspec": {
      "name": "python3",
      "display_name": "Python 3"
    }
  },
  "cells": [
    {
      "cell_type": "code",
      "metadata": {
        "id": "jYEqKDZbCurx",
        "colab_type": "code",
        "outputId": "3f9fed7e-63b1-46e4-8af0-b21ad7a31522",
        "colab": {
          "base_uri": "https://localhost:8080/",
          "height": 126
        }
      },
      "source": [
        "# variable vs. values: 1-on-multiple ( 1 對 多 )\n",
        "weekdays = [\"Monday\", \"Tuesday\", \"Wednesday\", \"Thursday\", \"Friday\"]\n",
        "print(len(weekdays)) #觀察長度\n",
        "\n",
        "lucky_numbers = [7, 24, 5566]\n",
        "print(lucky_numbers)\n",
        "lucky_numbers.append(87) #新增資料至末端\n",
        "print(lucky_numbers)\n",
        "lucky_numbers.pop() #將最末端資料拋出\n",
        "print(lucky_numbers)\n",
        "my_fav_group = lucky_numbers.pop()\n",
        "print(lucky_numbers)\n",
        "print(my_fav_group) #讀出拋出的最末端資料"
      ],
      "execution_count": 0,
      "outputs": [
        {
          "output_type": "stream",
          "text": [
            "5\n",
            "[7, 24, 5566]\n",
            "[7, 24, 5566, 87]\n",
            "[7, 24, 5566]\n",
            "[7, 24]\n",
            "5566\n"
          ],
          "name": "stdout"
        }
      ]
    },
    {
      "cell_type": "code",
      "metadata": {
        "id": "KwLkD7FwAuoj",
        "colab_type": "code",
        "outputId": "0813755f-a86d-4fc8-804f-7fb51910a1d8",
        "colab": {
          "base_uri": "https://localhost:8080/",
          "height": 72
        }
      },
      "source": [
        "weekdays = [\"Monday\", \"Tuesday\", \"Wednesday\", \"Thursday\", \"Friday\"]\n",
        "weekend = [\"Saturday\", \"Sunday\"]\n",
        "print(weekdays)\n",
        "print(weekend)\n",
        "\n",
        "weekend + weekdays # + 連結另一個 list"
      ],
      "execution_count": 0,
      "outputs": [
        {
          "output_type": "stream",
          "text": [
            "['Monday', 'Tuesday', 'Wednesday', 'Thursday', 'Friday']\n",
            "['Saturday', 'Sunday']\n"
          ],
          "name": "stdout"
        },
        {
          "output_type": "execute_result",
          "data": {
            "text/plain": [
              "['Saturday', 'Sunday', 'Monday', 'Tuesday', 'Wednesday', 'Thursday', 'Friday']"
            ]
          },
          "metadata": {
            "tags": []
          },
          "execution_count": 8
        }
      ]
    },
    {
      "cell_type": "code",
      "metadata": {
        "id": "Weh4oWNAC_OY",
        "colab_type": "code",
        "outputId": "6b4724e5-0c52-4c4c-e1bd-3f157a077981",
        "colab": {
          "base_uri": "https://localhost:8080/",
          "height": 108
        }
      },
      "source": [
        "weekdays = [\"Monday\", \"Tuesday\", \"Wednesday\", \"Thursday\", \"Friday\"]\n",
        "#索引從開頭數\n",
        "print(weekdays[0])\n",
        "print(weekdays[1])\n",
        "print(weekdays[2])\n",
        "print(weekdays[3])\n",
        "print(weekdays[4])"
      ],
      "execution_count": 0,
      "outputs": [
        {
          "output_type": "stream",
          "text": [
            "Monday\n",
            "Tuesday\n",
            "Wednesday\n",
            "Thursday\n",
            "Friday\n"
          ],
          "name": "stdout"
        }
      ]
    },
    {
      "cell_type": "code",
      "metadata": {
        "id": "8eFt7yjW1SdS",
        "colab_type": "code",
        "outputId": "0ae5fb94-4ab4-4b9d-f021-67202dbb4fe8",
        "colab": {
          "base_uri": "https://localhost:8080/",
          "height": 108
        }
      },
      "source": [
        "weekdays = [\"Monday\", \"Tuesday\", \"Wednesday\", \"Thursday\", \"Friday\"]\n",
        "#索引從開頭數\n",
        "i = 0 \n",
        "while i <= 4:\n",
        "    print(weekdays[i])\n",
        "    i += 1"
      ],
      "execution_count": 0,
      "outputs": [
        {
          "output_type": "stream",
          "text": [
            "Monday\n",
            "Tuesday\n",
            "Wednesday\n",
            "Thursday\n",
            "Friday\n"
          ],
          "name": "stdout"
        }
      ]
    },
    {
      "cell_type": "code",
      "metadata": {
        "id": "--WGT_jfIwQJ",
        "colab_type": "code",
        "outputId": "569665a0-13bc-4d8c-bd42-f871bb39324d",
        "colab": {
          "base_uri": "https://localhost:8080/",
          "height": 108
        }
      },
      "source": [
        "weekdays = [\"Monday\", \"Tuesday\", \"Wednesday\", \"Thursday\", \"Friday\"]\n",
        "#索引從末端數\n",
        "print(weekdays[-1])\n",
        "print(weekdays[-2])\n",
        "print(weekdays[-3])\n",
        "print(weekdays[-4])\n",
        "print(weekdays[-5])"
      ],
      "execution_count": 0,
      "outputs": [
        {
          "output_type": "stream",
          "text": [
            "Friday\n",
            "Thursday\n",
            "Wednesday\n",
            "Tuesday\n",
            "Monday\n"
          ],
          "name": "stdout"
        }
      ]
    },
    {
      "cell_type": "code",
      "metadata": {
        "id": "ya35yJoWCYMR",
        "colab_type": "code",
        "outputId": "24af0c3c-8bc4-4945-d44c-c414aa4ee423",
        "colab": {
          "base_uri": "https://localhost:8080/",
          "height": 108
        }
      },
      "source": [
        "weekdays = [\"Monday\", \"Tuesday\", \"Wednesday\", \"Thursday\", \"Friday\"]\n",
        "#索引從末端數\n",
        "i = -1 \n",
        "while i >= -5:\n",
        "    print(weekdays[i])\n",
        "    i -= 1"
      ],
      "execution_count": 0,
      "outputs": [
        {
          "output_type": "stream",
          "text": [
            "Friday\n",
            "Thursday\n",
            "Wednesday\n",
            "Tuesday\n",
            "Monday\n"
          ],
          "name": "stdout"
        }
      ]
    },
    {
      "cell_type": "code",
      "metadata": {
        "id": "ruH8t3fAD40X",
        "colab_type": "code",
        "outputId": "3a23611d-b77a-4bd6-972b-3cfff33ee380",
        "colab": {
          "base_uri": "https://localhost:8080/",
          "height": 35
        }
      },
      "source": [
        "weekdays = [\"Monday\", \"Tuesday\", \"Wednesday\", \"Thursday\", \"Friday\"]\n",
        "weekdays\n",
        "#切割\n",
        "weekdays[0:3:1]"
      ],
      "execution_count": 0,
      "outputs": [
        {
          "output_type": "execute_result",
          "data": {
            "text/plain": [
              "['Monday', 'Tuesday', 'Wednesday']"
            ]
          },
          "metadata": {
            "tags": []
          },
          "execution_count": 18
        }
      ]
    },
    {
      "cell_type": "code",
      "metadata": {
        "id": "g-6H48n4ElTd",
        "colab_type": "code",
        "outputId": "9a25f407-1191-4c1f-d760-1c3eb3c51a9c",
        "colab": {
          "base_uri": "https://localhost:8080/",
          "height": 399
        }
      },
      "source": [
        "cast = ['Robert Downey Jr.', 'Chris Evans', 'Mark Ruffalo', 'Chris Hemsworth', 'Scarlett Johansson', 'Jeremy Renner', 'Don Cheadle', 'Paul Rudd', 'Benedict Cumberbatch', 'Chadwick Boseman', 'Brie Larson', 'Tom Holland', 'Karen Gillan', 'Zoe Saldana', 'Evangeline Lilly']\n",
        "print(\"將飾演奇異博士（Doctor Strange）的演員用選出來\")\n",
        "#索引(從開頭數)\n",
        "print(cast[8]) \n",
        "#索引(從末端數)\n",
        "print(cast[-7]) \n",
        "print(\"=========================\")\n",
        "print(\"將第一集復仇者聯盟的六位英雄選出來\")\n",
        "#索引(從開頭數)\n",
        "i = 0 \n",
        "while i <= 5:\n",
        "    print(cast[i])\n",
        "    i += 1\n",
        "print(\"-------------------------\")\n",
        "#索引(從末端數)\n",
        "i = -10\n",
        "while i >= -15:\n",
        "    print(cast[i])\n",
        "    i -= 1\n",
        "print(\"-------------------------\")\n",
        "print(len(cast))\n",
        "#切割\n",
        "print(cast[:6]) \n",
        "\n"
      ],
      "execution_count": 0,
      "outputs": [
        {
          "output_type": "stream",
          "text": [
            "將飾演奇異博士（Doctor Strange）的演員用選出來\n",
            "Benedict Cumberbatch\n",
            "Benedict Cumberbatch\n",
            "=========================\n",
            "將第一集復仇者聯盟的六位英雄選出來\n",
            "Robert Downey Jr.\n",
            "Chris Evans\n",
            "Mark Ruffalo\n",
            "Chris Hemsworth\n",
            "Scarlett Johansson\n",
            "Jeremy Renner\n",
            "-------------------------\n",
            "Jeremy Renner\n",
            "Scarlett Johansson\n",
            "Chris Hemsworth\n",
            "Mark Ruffalo\n",
            "Chris Evans\n",
            "Robert Downey Jr.\n",
            "-------------------------\n",
            "15\n",
            "['Robert Downey Jr.', 'Chris Evans', 'Mark Ruffalo', 'Chris Hemsworth', 'Scarlett Johansson', 'Jeremy Renner']\n"
          ],
          "name": "stdout"
        }
      ]
    },
    {
      "cell_type": "code",
      "metadata": {
        "id": "Kav3hXz8Nua4",
        "colab_type": "code",
        "outputId": "749cc160-1f79-4073-e531-68aa2d141a27",
        "colab": {
          "base_uri": "https://localhost:8080/",
          "height": 54
        }
      },
      "source": [
        "!pip install -U beautifulsoup4"
      ],
      "execution_count": 70,
      "outputs": [
        {
          "output_type": "stream",
          "text": [
            "Requirement already up-to-date: beautifulsoup4 in /usr/local/lib/python3.6/dist-packages (4.9.0)\n",
            "Requirement already satisfied, skipping upgrade: soupsieve>1.2 in /usr/local/lib/python3.6/dist-packages (from beautifulsoup4) (2.0)\n"
          ],
          "name": "stdout"
        }
      ]
    },
    {
      "cell_type": "code",
      "metadata": {
        "id": "F1K_ebV8G3jr",
        "colab_type": "code",
        "colab": {
          "base_uri": "https://localhost:8080/",
          "height": 219
        },
        "outputId": "ffec75c7-adac-442c-bfb9-ea3344c17682"
      },
      "source": [
        "import requests\n",
        "from bs4 import BeautifulSoup\n",
        "\n",
        "response = requests.get('https://www.imdb.com/title/tt4154796/')\n",
        "soup = BeautifulSoup(response.text)\n",
        "\n",
        "cast_list_a = soup.select(\"#titleCast .loadlate\")\n",
        "print(len(cast_list_a))\n",
        "\n",
        "cast_list = []\n",
        "print(cast_list)\n",
        "print(type(cast_list))\n",
        "print(len(cast_list))\n",
        "\n",
        "actor_0 = cast_list_a[0].get('alt').strip()\n",
        "cast_list.append(actor_0)\n",
        "print(cast_list)\n",
        "\n",
        "actor_1 = cast_list_a[1].get('alt').strip()\n",
        "cast_list.append(actor_1)\n",
        "print(cast_list)\n",
        "\n",
        "cast = []\n",
        "print(cast)\n",
        "print(type(cast))\n",
        "print(len(cast))\n",
        "\n",
        "i = 0\n",
        "while i < len(cast_list_a):\n",
        "    actor = cast_list_a[i].get('alt').strip()\n",
        "    cast.append(actor)\n",
        "    i += 1\n",
        "\n",
        "print(cast)    "
      ],
      "execution_count": 82,
      "outputs": [
        {
          "output_type": "stream",
          "text": [
            "15\n",
            "[]\n",
            "<class 'list'>\n",
            "0\n",
            "['Robert Downey Jr.']\n",
            "['Robert Downey Jr.', 'Chris Evans']\n",
            "[]\n",
            "<class 'list'>\n",
            "0\n",
            "['Robert Downey Jr.', 'Chris Evans', 'Mark Ruffalo', 'Chris Hemsworth', 'Scarlett Johansson', 'Jeremy Renner', 'Don Cheadle', 'Paul Rudd', 'Benedict Cumberbatch', 'Chadwick Boseman', 'Brie Larson', 'Tom Holland', 'Karen Gillan', 'Zoe Saldana', 'Evangeline Lilly']\n"
          ],
          "name": "stdout"
        }
      ]
    },
    {
      "cell_type": "code",
      "metadata": {
        "id": "3IyhT2ifQA7g",
        "colab_type": "code",
        "colab": {
          "base_uri": "https://localhost:8080/",
          "height": 1000
        },
        "outputId": "5d9e8e9d-a512-4a99-a2ef-34e38088062c"
      },
      "source": [
        "import pandas as pd\n",
        "\n",
        "time_series_df = pd.read_csv(\"https://raw.githubusercontent.com/CSSEGISandData/COVID-19/master/csse_covid_19_data/csse_covid_19_time_series/time_series_covid19_confirmed_global.csv\")\n",
        "cumulative_confirmed = list(time_series_df[time_series_df['Country/Region'] == 'Taiwan*'].values.ravel()[4:].astype(int))\n",
        "cumulative_confirmed_lag = list(time_series_df[time_series_df['Country/Region'] == 'Taiwan*'].values.ravel()[4:].astype(int))\n",
        "print(cumulative_confirmed)\n",
        "print(cumulative_confirmed_lag)\n",
        "\n",
        "print(len(cumulative_confirmed))\n",
        "print(cumulative_confirmed[-1])\n",
        "\n",
        "cumulative_confirmed_lag.insert(0, 0)\n",
        "print(len(cumulative_confirmed_lag))\n",
        "print(cumulative_confirmed_lag[0])\n",
        "\n",
        "cumulative_confirmed_lag.pop()\n",
        "print(len(cumulative_confirmed_lag))\n",
        "print(cumulative_confirmed_lag[-1])\n",
        "\n",
        "print(cumulative_confirmed)\n",
        "print(cumulative_confirmed_lag)\n",
        "\n",
        "print(\"---------------------------\")\n",
        "daily_increase = []\n",
        "i = 0\n",
        "while i < len(cumulative_confirmed):\n",
        "    dayn_increase = cumulative_confirmed[i] - cumulative_confirmed_lag[i]\n",
        "    print(\"Day {}: 每日新增確診人數 {}\".format(i+1, dayn_increase))\n",
        "    daily_increase.append(dayn_increase)\n",
        "    i += 1\n",
        "    "
      ],
      "execution_count": 137,
      "outputs": [
        {
          "output_type": "stream",
          "text": [
            "[1, 1, 3, 3, 4, 5, 8, 8, 9, 10, 10, 10, 10, 11, 11, 16, 16, 17, 18, 18, 18, 18, 18, 18, 18, 20, 22, 22, 23, 24, 26, 26, 28, 30, 31, 32, 32, 34, 39, 40, 41, 42, 42, 44, 45, 45, 45, 45, 47, 48, 49, 50, 53, 59, 67, 77, 100, 108, 135, 153, 169, 195, 215, 235, 252, 267, 283, 298, 306, 322, 329, 339, 348, 355, 363, 373, 376, 379, 380, 382, 385, 388, 393, 393, 395, 395, 395, 398, 420, 422, 425, 426, 427, 428, 429, 429, 429, 429, 429, 429, 429, 432, 436, 438, 438, 439, 440]\n",
            "[1, 1, 3, 3, 4, 5, 8, 8, 9, 10, 10, 10, 10, 11, 11, 16, 16, 17, 18, 18, 18, 18, 18, 18, 18, 20, 22, 22, 23, 24, 26, 26, 28, 30, 31, 32, 32, 34, 39, 40, 41, 42, 42, 44, 45, 45, 45, 45, 47, 48, 49, 50, 53, 59, 67, 77, 100, 108, 135, 153, 169, 195, 215, 235, 252, 267, 283, 298, 306, 322, 329, 339, 348, 355, 363, 373, 376, 379, 380, 382, 385, 388, 393, 393, 395, 395, 395, 398, 420, 422, 425, 426, 427, 428, 429, 429, 429, 429, 429, 429, 429, 432, 436, 438, 438, 439, 440]\n",
            "107\n",
            "440\n",
            "108\n",
            "0\n",
            "107\n",
            "439\n",
            "[1, 1, 3, 3, 4, 5, 8, 8, 9, 10, 10, 10, 10, 11, 11, 16, 16, 17, 18, 18, 18, 18, 18, 18, 18, 20, 22, 22, 23, 24, 26, 26, 28, 30, 31, 32, 32, 34, 39, 40, 41, 42, 42, 44, 45, 45, 45, 45, 47, 48, 49, 50, 53, 59, 67, 77, 100, 108, 135, 153, 169, 195, 215, 235, 252, 267, 283, 298, 306, 322, 329, 339, 348, 355, 363, 373, 376, 379, 380, 382, 385, 388, 393, 393, 395, 395, 395, 398, 420, 422, 425, 426, 427, 428, 429, 429, 429, 429, 429, 429, 429, 432, 436, 438, 438, 439, 440]\n",
            "[0, 1, 1, 3, 3, 4, 5, 8, 8, 9, 10, 10, 10, 10, 11, 11, 16, 16, 17, 18, 18, 18, 18, 18, 18, 18, 20, 22, 22, 23, 24, 26, 26, 28, 30, 31, 32, 32, 34, 39, 40, 41, 42, 42, 44, 45, 45, 45, 45, 47, 48, 49, 50, 53, 59, 67, 77, 100, 108, 135, 153, 169, 195, 215, 235, 252, 267, 283, 298, 306, 322, 329, 339, 348, 355, 363, 373, 376, 379, 380, 382, 385, 388, 393, 393, 395, 395, 395, 398, 420, 422, 425, 426, 427, 428, 429, 429, 429, 429, 429, 429, 429, 432, 436, 438, 438, 439]\n",
            "---------------------------\n",
            "Day 1: 每日新增確診人數 1\n",
            "Day 2: 每日新增確診人數 0\n",
            "Day 3: 每日新增確診人數 2\n",
            "Day 4: 每日新增確診人數 0\n",
            "Day 5: 每日新增確診人數 1\n",
            "Day 6: 每日新增確診人數 1\n",
            "Day 7: 每日新增確診人數 3\n",
            "Day 8: 每日新增確診人數 0\n",
            "Day 9: 每日新增確診人數 1\n",
            "Day 10: 每日新增確診人數 1\n",
            "Day 11: 每日新增確診人數 0\n",
            "Day 12: 每日新增確診人數 0\n",
            "Day 13: 每日新增確診人數 0\n",
            "Day 14: 每日新增確診人數 1\n",
            "Day 15: 每日新增確診人數 0\n",
            "Day 16: 每日新增確診人數 5\n",
            "Day 17: 每日新增確診人數 0\n",
            "Day 18: 每日新增確診人數 1\n",
            "Day 19: 每日新增確診人數 1\n",
            "Day 20: 每日新增確診人數 0\n",
            "Day 21: 每日新增確診人數 0\n",
            "Day 22: 每日新增確診人數 0\n",
            "Day 23: 每日新增確診人數 0\n",
            "Day 24: 每日新增確診人數 0\n",
            "Day 25: 每日新增確診人數 0\n",
            "Day 26: 每日新增確診人數 2\n",
            "Day 27: 每日新增確診人數 2\n",
            "Day 28: 每日新增確診人數 0\n",
            "Day 29: 每日新增確診人數 1\n",
            "Day 30: 每日新增確診人數 1\n",
            "Day 31: 每日新增確診人數 2\n",
            "Day 32: 每日新增確診人數 0\n",
            "Day 33: 每日新增確診人數 2\n",
            "Day 34: 每日新增確診人數 2\n",
            "Day 35: 每日新增確診人數 1\n",
            "Day 36: 每日新增確診人數 1\n",
            "Day 37: 每日新增確診人數 0\n",
            "Day 38: 每日新增確診人數 2\n",
            "Day 39: 每日新增確診人數 5\n",
            "Day 40: 每日新增確診人數 1\n",
            "Day 41: 每日新增確診人數 1\n",
            "Day 42: 每日新增確診人數 1\n",
            "Day 43: 每日新增確診人數 0\n",
            "Day 44: 每日新增確診人數 2\n",
            "Day 45: 每日新增確診人數 1\n",
            "Day 46: 每日新增確診人數 0\n",
            "Day 47: 每日新增確診人數 0\n",
            "Day 48: 每日新增確診人數 0\n",
            "Day 49: 每日新增確診人數 2\n",
            "Day 50: 每日新增確診人數 1\n",
            "Day 51: 每日新增確診人數 1\n",
            "Day 52: 每日新增確診人數 1\n",
            "Day 53: 每日新增確診人數 3\n",
            "Day 54: 每日新增確診人數 6\n",
            "Day 55: 每日新增確診人數 8\n",
            "Day 56: 每日新增確診人數 10\n",
            "Day 57: 每日新增確診人數 23\n",
            "Day 58: 每日新增確診人數 8\n",
            "Day 59: 每日新增確診人數 27\n",
            "Day 60: 每日新增確診人數 18\n",
            "Day 61: 每日新增確診人數 16\n",
            "Day 62: 每日新增確診人數 26\n",
            "Day 63: 每日新增確診人數 20\n",
            "Day 64: 每日新增確診人數 20\n",
            "Day 65: 每日新增確診人數 17\n",
            "Day 66: 每日新增確診人數 15\n",
            "Day 67: 每日新增確診人數 16\n",
            "Day 68: 每日新增確診人數 15\n",
            "Day 69: 每日新增確診人數 8\n",
            "Day 70: 每日新增確診人數 16\n",
            "Day 71: 每日新增確診人數 7\n",
            "Day 72: 每日新增確診人數 10\n",
            "Day 73: 每日新增確診人數 9\n",
            "Day 74: 每日新增確診人數 7\n",
            "Day 75: 每日新增確診人數 8\n",
            "Day 76: 每日新增確診人數 10\n",
            "Day 77: 每日新增確診人數 3\n",
            "Day 78: 每日新增確診人數 3\n",
            "Day 79: 每日新增確診人數 1\n",
            "Day 80: 每日新增確診人數 2\n",
            "Day 81: 每日新增確診人數 3\n",
            "Day 82: 每日新增確診人數 3\n",
            "Day 83: 每日新增確診人數 5\n",
            "Day 84: 每日新增確診人數 0\n",
            "Day 85: 每日新增確診人數 2\n",
            "Day 86: 每日新增確診人數 0\n",
            "Day 87: 每日新增確診人數 0\n",
            "Day 88: 每日新增確診人數 3\n",
            "Day 89: 每日新增確診人數 22\n",
            "Day 90: 每日新增確診人數 2\n",
            "Day 91: 每日新增確診人數 3\n",
            "Day 92: 每日新增確診人數 1\n",
            "Day 93: 每日新增確診人數 1\n",
            "Day 94: 每日新增確診人數 1\n",
            "Day 95: 每日新增確診人數 1\n",
            "Day 96: 每日新增確診人數 0\n",
            "Day 97: 每日新增確診人數 0\n",
            "Day 98: 每日新增確診人數 0\n",
            "Day 99: 每日新增確診人數 0\n",
            "Day 100: 每日新增確診人數 0\n",
            "Day 101: 每日新增確診人數 0\n",
            "Day 102: 每日新增確診人數 3\n",
            "Day 103: 每日新增確診人數 4\n",
            "Day 104: 每日新增確診人數 2\n",
            "Day 105: 每日新增確診人數 0\n",
            "Day 106: 每日新增確診人數 1\n",
            "Day 107: 每日新增確診人數 1\n"
          ],
          "name": "stdout"
        }
      ]
    },
    {
      "cell_type": "code",
      "metadata": {
        "id": "V2RJVj2pbSv3",
        "colab_type": "code",
        "colab": {}
      },
      "source": [
        "i = 0\n",
        "while i >= len(cumulative_confirmed):\n",
        "    daily_increase = cumulative_confirmed[i] - cumulative_confirmed_lag[i + 1]\n",
        "    cast.append(actor)\n",
        "    print(daily_increase)\n",
        "    i += 1"
      ],
      "execution_count": 0,
      "outputs": []
    }
  ]
}