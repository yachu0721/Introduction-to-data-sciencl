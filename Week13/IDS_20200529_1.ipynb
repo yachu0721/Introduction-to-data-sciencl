{
  "nbformat": 4,
  "nbformat_minor": 0,
  "metadata": {
    "colab": {
      "name": "IDS_20200529_1",
      "provenance": []
    },
    "kernelspec": {
      "name": "python3",
      "display_name": "Python 3"
    }
  },
  "cells": [
    {
      "cell_type": "code",
      "metadata": {
        "id": "fcTkSlD47c2D",
        "colab_type": "code",
        "outputId": "e0e09270-7cce-4cbf-89b7-b14117371039",
        "colab": {
          "base_uri": "https://localhost:8080/",
          "height": 146
        }
      },
      "source": [
        "import pandas as pd\n",
        "\n",
        "covid19_ts = pd.read_csv(\"https://raw.githubusercontent.com/CSSEGISandData/COVID-19/master/csse_covid_19_data/csse_covid_19_time_series/time_series_covid19_confirmed_global.csv\")\n",
        "covid19_ts_tw = covid19_ts[covid19_ts['Country/Region'] == 'Taiwan*']\n",
        "cumulative_confirmed_tw = list(covid19_ts_tw.loc[:,'1/22/20':'5/27/20'].values.ravel())\n",
        "dates = list(covid19_ts_tw.loc[:, '1/22/20':'5/27/20'].columns)\n",
        "print(dates) # 所有日期\n",
        "print(len(dates)) # 日期有幾天\n",
        "print(cumulative_confirmed_tw) # 確診數目\n",
        "print(len(cumulative_confirmed_tw)) # 有多少天的確診數目\n",
        "# 前一天確診人數\n",
        "cumulative_confirmed_tw_lag = [cumulative_confirmed_tw[i] for i in range(len(cumulative_confirmed_tw)-1)]\n",
        "cumulative_confirmed_tw_lag.insert(0, 0)\n",
        "print(cumulative_confirmed_tw_lag) \n",
        "print(len(cumulative_confirmed_tw_lag))"
      ],
      "execution_count": 6,
      "outputs": [
        {
          "output_type": "stream",
          "text": [
            "['1/22/20', '1/23/20', '1/24/20', '1/25/20', '1/26/20', '1/27/20', '1/28/20', '1/29/20', '1/30/20', '1/31/20', '2/1/20', '2/2/20', '2/3/20', '2/4/20', '2/5/20', '2/6/20', '2/7/20', '2/8/20', '2/9/20', '2/10/20', '2/11/20', '2/12/20', '2/13/20', '2/14/20', '2/15/20', '2/16/20', '2/17/20', '2/18/20', '2/19/20', '2/20/20', '2/21/20', '2/22/20', '2/23/20', '2/24/20', '2/25/20', '2/26/20', '2/27/20', '2/28/20', '2/29/20', '3/1/20', '3/2/20', '3/3/20', '3/4/20', '3/5/20', '3/6/20', '3/7/20', '3/8/20', '3/9/20', '3/10/20', '3/11/20', '3/12/20', '3/13/20', '3/14/20', '3/15/20', '3/16/20', '3/17/20', '3/18/20', '3/19/20', '3/20/20', '3/21/20', '3/22/20', '3/23/20', '3/24/20', '3/25/20', '3/26/20', '3/27/20', '3/28/20', '3/29/20', '3/30/20', '3/31/20', '4/1/20', '4/2/20', '4/3/20', '4/4/20', '4/5/20', '4/6/20', '4/7/20', '4/8/20', '4/9/20', '4/10/20', '4/11/20', '4/12/20', '4/13/20', '4/14/20', '4/15/20', '4/16/20', '4/17/20', '4/18/20', '4/19/20', '4/20/20', '4/21/20', '4/22/20', '4/23/20', '4/24/20', '4/25/20', '4/26/20', '4/27/20', '4/28/20', '4/29/20', '4/30/20', '5/1/20', '5/2/20', '5/3/20', '5/4/20', '5/5/20', '5/6/20', '5/7/20', '5/8/20', '5/9/20', '5/10/20', '5/11/20', '5/12/20', '5/13/20', '5/14/20', '5/15/20', '5/16/20', '5/17/20', '5/18/20', '5/19/20', '5/20/20', '5/21/20', '5/22/20', '5/23/20', '5/24/20', '5/25/20', '5/26/20', '5/27/20']\n",
            "127\n",
            "[1, 1, 3, 3, 4, 5, 8, 8, 9, 10, 10, 10, 10, 11, 11, 16, 16, 17, 18, 18, 18, 18, 18, 18, 18, 20, 22, 22, 23, 24, 26, 26, 28, 30, 31, 32, 32, 34, 39, 40, 41, 42, 42, 44, 45, 45, 45, 45, 47, 48, 49, 50, 53, 59, 67, 77, 100, 108, 135, 153, 169, 195, 215, 235, 252, 267, 283, 298, 306, 322, 329, 339, 348, 355, 363, 373, 376, 379, 380, 382, 385, 388, 393, 393, 395, 395, 395, 398, 420, 422, 425, 426, 427, 428, 429, 429, 429, 429, 429, 429, 429, 432, 436, 438, 438, 439, 440, 440, 440, 440, 440, 440, 440, 440, 440, 440, 440, 440, 440, 440, 440, 441, 441, 441, 441, 441, 441]\n",
            "127\n",
            "[0, 1, 1, 3, 3, 4, 5, 8, 8, 9, 10, 10, 10, 10, 11, 11, 16, 16, 17, 18, 18, 18, 18, 18, 18, 18, 20, 22, 22, 23, 24, 26, 26, 28, 30, 31, 32, 32, 34, 39, 40, 41, 42, 42, 44, 45, 45, 45, 45, 47, 48, 49, 50, 53, 59, 67, 77, 100, 108, 135, 153, 169, 195, 215, 235, 252, 267, 283, 298, 306, 322, 329, 339, 348, 355, 363, 373, 376, 379, 380, 382, 385, 388, 393, 393, 395, 395, 395, 398, 420, 422, 425, 426, 427, 428, 429, 429, 429, 429, 429, 429, 429, 432, 436, 438, 438, 439, 440, 440, 440, 440, 440, 440, 440, 440, 440, 440, 440, 440, 440, 440, 440, 441, 441, 441, 441, 441]\n",
            "127\n"
          ],
          "name": "stdout"
        }
      ]
    },
    {
      "cell_type": "code",
      "metadata": {
        "id": "nht6FCKYAa5B",
        "colab_type": "code",
        "outputId": "93541b21-aed6-4089-fd68-5760baec6f7e",
        "colab": {
          "base_uri": "https://localhost:8080/",
          "height": 122
        }
      },
      "source": [
        "print(\"# 每日新增確診人數\")\n",
        "# 方法一\n",
        "daily_increase_tw = []\n",
        "for i, j in zip(cumulative_confirmed_tw, cumulative_confirmed_tw_lag):\n",
        "    daily_increase = i - j\n",
        "    daily_increase_tw.append(daily_increase)\n",
        "print(daily_increase_tw)\n",
        "print(len(daily_increase_tw))\n",
        "# 方法二\n",
        "daily_increase_tw = [i - j for i, j in zip(cumulative_confirmed_tw, cumulative_confirmed_tw_lag)]\n",
        "print(daily_increase_tw)\n",
        "print(len(daily_increase_tw))"
      ],
      "execution_count": 18,
      "outputs": [
        {
          "output_type": "stream",
          "text": [
            "# 每日新增確診人數\n",
            "[1, 0, 2, 0, 1, 1, 3, 0, 1, 1, 0, 0, 0, 1, 0, 5, 0, 1, 1, 0, 0, 0, 0, 0, 0, 2, 2, 0, 1, 1, 2, 0, 2, 2, 1, 1, 0, 2, 5, 1, 1, 1, 0, 2, 1, 0, 0, 0, 2, 1, 1, 1, 3, 6, 8, 10, 23, 8, 27, 18, 16, 26, 20, 20, 17, 15, 16, 15, 8, 16, 7, 10, 9, 7, 8, 10, 3, 3, 1, 2, 3, 3, 5, 0, 2, 0, 0, 3, 22, 2, 3, 1, 1, 1, 1, 0, 0, 0, 0, 0, 0, 3, 4, 2, 0, 1, 1, 0, 0, 0, 0, 0, 0, 0, 0, 0, 0, 0, 0, 0, 0, 1, 0, 0, 0, 0, 0]\n",
            "127\n",
            "[1, 0, 2, 0, 1, 1, 3, 0, 1, 1, 0, 0, 0, 1, 0, 5, 0, 1, 1, 0, 0, 0, 0, 0, 0, 2, 2, 0, 1, 1, 2, 0, 2, 2, 1, 1, 0, 2, 5, 1, 1, 1, 0, 2, 1, 0, 0, 0, 2, 1, 1, 1, 3, 6, 8, 10, 23, 8, 27, 18, 16, 26, 20, 20, 17, 15, 16, 15, 8, 16, 7, 10, 9, 7, 8, 10, 3, 3, 1, 2, 3, 3, 5, 0, 2, 0, 0, 3, 22, 2, 3, 1, 1, 1, 1, 0, 0, 0, 0, 0, 0, 3, 4, 2, 0, 1, 1, 0, 0, 0, 0, 0, 0, 0, 0, 0, 0, 0, 0, 0, 0, 1, 0, 0, 0, 0, 0]\n",
            "127\n"
          ],
          "name": "stdout"
        }
      ]
    },
    {
      "cell_type": "code",
      "metadata": {
        "id": "Yf4wG55MCgBS",
        "colab_type": "code",
        "colab": {
          "base_uri": "https://localhost:8080/",
          "height": 122
        },
        "outputId": "832fd672-fe68-4532-b52e-995f3610129e"
      },
      "source": [
        "print(\"# 在這 127 天中，哪些'日期'是零新增確診?\")\n",
        "# 方法一\n",
        "plus_zero_dates = []\n",
        "for d, di in zip(dates, daily_increase_tw):\n",
        "    if di == 0:\n",
        "        plus_zero_dates.append(d)\n",
        "print(plus_zero_dates)\n",
        "print(len(plus_zero_dates))\n",
        "# 方法二\n",
        "plus_zero_dates = [d for d, di in zip(dates, daily_increase_tw)if di == 0]\n",
        "print(plus_zero_dates)\n",
        "print(len(plus_zero_dates))"
      ],
      "execution_count": 19,
      "outputs": [
        {
          "output_type": "stream",
          "text": [
            "# 在這 127 天中，哪些'日期'是零新增確診?\n",
            "['1/23/20', '1/25/20', '1/29/20', '2/1/20', '2/2/20', '2/3/20', '2/5/20', '2/7/20', '2/10/20', '2/11/20', '2/12/20', '2/13/20', '2/14/20', '2/15/20', '2/18/20', '2/22/20', '2/27/20', '3/4/20', '3/7/20', '3/8/20', '3/9/20', '4/14/20', '4/16/20', '4/17/20', '4/26/20', '4/27/20', '4/28/20', '4/29/20', '4/30/20', '5/1/20', '5/5/20', '5/8/20', '5/9/20', '5/10/20', '5/11/20', '5/12/20', '5/13/20', '5/14/20', '5/15/20', '5/16/20', '5/17/20', '5/18/20', '5/19/20', '5/20/20', '5/21/20', '5/23/20', '5/24/20', '5/25/20', '5/26/20', '5/27/20']\n",
            "50\n",
            "['1/23/20', '1/25/20', '1/29/20', '2/1/20', '2/2/20', '2/3/20', '2/5/20', '2/7/20', '2/10/20', '2/11/20', '2/12/20', '2/13/20', '2/14/20', '2/15/20', '2/18/20', '2/22/20', '2/27/20', '3/4/20', '3/7/20', '3/8/20', '3/9/20', '4/14/20', '4/16/20', '4/17/20', '4/26/20', '4/27/20', '4/28/20', '4/29/20', '4/30/20', '5/1/20', '5/5/20', '5/8/20', '5/9/20', '5/10/20', '5/11/20', '5/12/20', '5/13/20', '5/14/20', '5/15/20', '5/16/20', '5/17/20', '5/18/20', '5/19/20', '5/20/20', '5/21/20', '5/23/20', '5/24/20', '5/25/20', '5/26/20', '5/27/20']\n",
            "50\n"
          ],
          "name": "stdout"
        }
      ]
    },
    {
      "cell_type": "code",
      "metadata": {
        "id": "LqLyK4AwEczK",
        "colab_type": "code",
        "colab": {
          "base_uri": "https://localhost:8080/",
          "height": 85
        },
        "outputId": "d2d05cf8-332a-44e3-c81b-752092367784"
      },
      "source": [
        "# 方法一\n",
        "from random import sample\n",
        "\n",
        "n_samples = 0\n",
        "while True:\n",
        "    random_integer = sample(range(1, 1001), 1)[0]\n",
        "    n_samples += 1\n",
        "    if random_integer % 56 == 0:\n",
        "        break\n",
        "print(random_integer)\n",
        "print(n_samples)\n",
        "# 方法二\n",
        "sample_history = []\n",
        "while True:\n",
        "    random_integer = sample(range(1, 1001), 1)[0]\n",
        "    sample_history.append(random_integer)\n",
        "    if random_integer % 56 == 0:\n",
        "        break\n",
        "print(sample_history)\n",
        "print(len(sample_history))"
      ],
      "execution_count": 30,
      "outputs": [
        {
          "output_type": "stream",
          "text": [
            "504\n",
            "54\n",
            "[904, 538, 460, 219, 331, 83, 77, 268, 383, 6, 636, 577, 210, 473, 375, 562, 347, 923, 15, 246, 405, 524, 546, 868, 781, 522, 907, 567, 871, 987, 128, 575, 945, 280]\n",
            "34\n"
          ],
          "name": "stdout"
        }
      ]
    },
    {
      "cell_type": "code",
      "metadata": {
        "id": "ujyh0pM4HpES",
        "colab_type": "code",
        "colab": {
          "base_uri": "https://localhost:8080/",
          "height": 153
        },
        "outputId": "1992ce52-2623-40de-b79b-7f40d1b07b5d"
      },
      "source": [
        "n_vowels = 0\n",
        "for i in 'azcbobobegghakl':\n",
        "    if i in[\"a\",\"e\",\"i\",\"o\",\"u\"]:\n",
        "        print(i)  \n",
        "        n_vowels += 1\n",
        "print(n_vowels)\n",
        "print(\"===\")\n",
        "n_vowels = 0\n",
        "for i in 'azcbobobegghakl':\n",
        "    if i in[\"a\",\"e\",\"i\",\"o\",\"u\"]:\n",
        "        # print(i)  \n",
        "        n_vowels += 1\n",
        "print(n_vowels)"
      ],
      "execution_count": 43,
      "outputs": [
        {
          "output_type": "stream",
          "text": [
            "a\n",
            "o\n",
            "o\n",
            "e\n",
            "a\n",
            "5\n",
            "===\n",
            "5\n"
          ],
          "name": "stdout"
        }
      ]
    },
    {
      "cell_type": "code",
      "metadata": {
        "id": "1eB-_jfhK_sX",
        "colab_type": "code",
        "colab": {
          "base_uri": "https://localhost:8080/",
          "height": 272
        },
        "outputId": "2b27e99e-4810-4eac-ecb7-5ca453cd85fb"
      },
      "source": [
        "# 延伸\n",
        "test_str = 'azcbobobegghak'\n",
        "n_char = len(test_str)\n",
        "print(n_char)\n",
        "for i in range(12):\n",
        "    print(test_str[i:i+3])\n",
        "  \n",
        "print(\"===\")\n",
        "test_str = 'azcbobobegghak'\n",
        "n_char = len(test_str)\n",
        "n_bobs = 0\n",
        "for i in range(n_char - 2):\n",
        "    #print(test_str[i:i+3])\n",
        "    if test_str[i:i+3] == 'bob':\n",
        "        n_bobs += 1\n",
        "print(n_bobs)\n"
      ],
      "execution_count": 53,
      "outputs": [
        {
          "output_type": "stream",
          "text": [
            "14\n",
            "azc\n",
            "zcb\n",
            "cbo\n",
            "bob\n",
            "obo\n",
            "bob\n",
            "obe\n",
            "beg\n",
            "egg\n",
            "ggh\n",
            "gha\n",
            "hak\n",
            "===\n",
            "2\n"
          ],
          "name": "stdout"
        }
      ]
    },
    {
      "cell_type": "code",
      "metadata": {
        "id": "QBbMicL6Krcw",
        "colab_type": "code",
        "colab": {
          "base_uri": "https://localhost:8080/",
          "height": 68
        },
        "outputId": "d1024e6c-f504-4867-bd7d-83bab58b87d2"
      },
      "source": [
        "# 樣本標準差\n",
        "# 方法一\n",
        "x = list(range(1, 101))\n",
        "N = len(x)\n",
        "x_bar = sum(x) / N\n",
        "print(x_bar)\n",
        "sse = 0\n",
        "for xi in x:\n",
        "    error = xi - x_bar\n",
        "    squared_error = (error)**2\n",
        "    sse += squared_error #sse = sse + squared_error\n",
        "sample_mse = sse / (N-1)\n",
        "sample_stdev = sample_mse**(0.5)\n",
        "print(sample_stdev)\n",
        "# 方法二\n",
        "from statistics import stdev\n",
        "\n",
        "stdev(range(1, 101)) # [1, 2, 3, ..., 100]"
      ],
      "execution_count": 61,
      "outputs": [
        {
          "output_type": "stream",
          "text": [
            "50.5\n",
            "29.011491975882016\n"
          ],
          "name": "stdout"
        },
        {
          "output_type": "execute_result",
          "data": {
            "text/plain": [
              "29.011491975882016"
            ]
          },
          "metadata": {
            "tags": []
          },
          "execution_count": 61
        }
      ]
    },
    {
      "cell_type": "code",
      "metadata": {
        "id": "S-qli9VEbXIQ",
        "colab_type": "code",
        "colab": {
          "base_uri": "https://localhost:8080/",
          "height": 119
        },
        "outputId": "d9499620-d094-47af-a4a8-9cbaa049ab2c"
      },
      "source": [
        "print(\"Luke\")\n",
        "print(\"use the Force!\")\n",
        "print(\"========\")\n",
        "print(\"Luke\", end=\"\")\n",
        "print(\"use the Force!\")\n",
        "print(\"========\")\n",
        "print(\"Luke\",end=\",\")\n",
        "print(\"use the Force!\")"
      ],
      "execution_count": 64,
      "outputs": [
        {
          "output_type": "stream",
          "text": [
            "Luke\n",
            "use the Force!\n",
            "========\n",
            "Lukeuse the Force!\n",
            "========\n",
            "Luke,use the Force!\n"
          ],
          "name": "stdout"
        }
      ]
    },
    {
      "cell_type": "code",
      "metadata": {
        "id": "ZCv5vtbncGVj",
        "colab_type": "code",
        "colab": {
          "base_uri": "https://localhost:8080/",
          "height": 187
        },
        "outputId": "e7fe2505-6b48-4874-ea49-7dbdb2666f88"
      },
      "source": [
        "def absolute(x):\n",
        "    \"\"\"\n",
        "    Returns the absolute value of x.\n",
        "    \"\"\"\n",
        "    if x < 0:\n",
        "       return -x\n",
        "    else:\n",
        "       return x   \n",
        "help(absolute)\n",
        "print(\"=======\")\n",
        "print(absolute(-5566))\n",
        "print(absolute(0))\n",
        "print(\"=======\")\n",
        "posotive_56 = absolute(-5566)\n",
        "print(posotive_56)"
      ],
      "execution_count": 75,
      "outputs": [
        {
          "output_type": "stream",
          "text": [
            "Help on function absolute in module __main__:\n",
            "\n",
            "absolute(x)\n",
            "    Returns the absolute value of x.\n",
            "\n",
            "=======\n",
            "5566\n",
            "0\n",
            "=======\n",
            "5566\n"
          ],
          "name": "stdout"
        }
      ]
    },
    {
      "cell_type": "code",
      "metadata": {
        "id": "ITthsfk8eex7",
        "colab_type": "code",
        "colab": {
          "base_uri": "https://localhost:8080/",
          "height": 51
        },
        "outputId": "a8fce532-2632-4642-d37c-50686d2add26"
      },
      "source": [
        "def absolute(x):\n",
        "    \"\"\"\n",
        "    Returns the absolute value of x.\n",
        "    \"\"\"\n",
        "    if x < 0:\n",
        "        abs_x = -x\n",
        "        print(\"{}的絕對值是{}\".format(x, abs_x))\n",
        "        return abs_x\n",
        "    else:\n",
        "        print(\"{}的絕對值是{}\".format(x, x))\n",
        "        return x\n",
        "posotive_56 = absolute(-5566)\n",
        "print(posotive_56)\n"
      ],
      "execution_count": 76,
      "outputs": [
        {
          "output_type": "stream",
          "text": [
            "-5566的絕對值是5566\n",
            "5566\n"
          ],
          "name": "stdout"
        }
      ]
    },
    {
      "cell_type": "code",
      "metadata": {
        "id": "ppesfDNbeInt",
        "colab_type": "code",
        "colab": {
          "base_uri": "https://localhost:8080/",
          "height": 34
        },
        "outputId": "e594bd5a-4f8d-4896-af63-c2ca51b8eb6e"
      },
      "source": [
        "def get_fahrenheit(x):\n",
        "    \"\"\"\n",
        "    Transform a Celsius degree into  Farenheit scale\n",
        "    \"\"\"\n",
        "    f = x*9/5 + 32\n",
        "    return f\n",
        "\n",
        "print(get_fahrenheit(25))    "
      ],
      "execution_count": 86,
      "outputs": [
        {
          "output_type": "stream",
          "text": [
            "77.0\n"
          ],
          "name": "stdout"
        }
      ]
    },
    {
      "cell_type": "code",
      "metadata": {
        "id": "G1kXaK75f9P1",
        "colab_type": "code",
        "colab": {
          "base_uri": "https://localhost:8080/",
          "height": 34
        },
        "outputId": "7889362b-17ff-471f-8c83-2655f91abe94"
      },
      "source": [
        "def get_bmi(height, weight):\n",
        "    \"\"\"\n",
        "    Calculate BMI based on height and weight\n",
        "    \"\"\"\n",
        "    height = height/100\n",
        "    bmi = weight/height**2   \n",
        "    return bmi\n",
        "print(get_bmi(145, 45))    "
      ],
      "execution_count": 87,
      "outputs": [
        {
          "output_type": "stream",
          "text": [
            "21.40309155766944\n"
          ],
          "name": "stdout"
        }
      ]
    },
    {
      "cell_type": "code",
      "metadata": {
        "id": "2tuMXAFtiher",
        "colab_type": "code",
        "colab": {
          "base_uri": "https://localhost:8080/",
          "height": 34
        },
        "outputId": "2cc1e8b2-1daf-45a0-e969-88309a19351f"
      },
      "source": [
        "def is_prime(x):\n",
        "    \"\"\"\n",
        "    Returns True if x is a prime, or returns False\n",
        "    \"\"\"\n",
        "    divisors = []\n",
        "    for i in range(1, x+1):\n",
        "        if x % i == 0:\n",
        "            divisors.append(i)\n",
        "    n_divisors = len(divisors)  \n",
        "    return n_divisors == 2\n",
        "   \n",
        "print(is_prime(6))    "
      ],
      "execution_count": 92,
      "outputs": [
        {
          "output_type": "stream",
          "text": [
            "False\n"
          ],
          "name": "stdout"
        }
      ]
    }
  ]
}